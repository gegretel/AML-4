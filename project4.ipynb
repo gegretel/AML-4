{
  "nbformat": 4,
  "nbformat_minor": 0,
  "metadata": {
    "colab": {
      "name": "project4.ipynb",
      "provenance": [],
      "collapsed_sections": [],
      "authorship_tag": "ABX9TyMbPoaruW/ABtT374XFVeN8",
      "include_colab_link": true
    },
    "kernelspec": {
      "name": "python3",
      "display_name": "Python 3"
    }
  },
  "cells": [
    {
      "cell_type": "markdown",
      "metadata": {
        "id": "view-in-github",
        "colab_type": "text"
      },
      "source": [
        "<a href=\"https://colab.research.google.com/github/gegretel/AML-4/blob/master/project4.ipynb\" target=\"_parent\"><img src=\"https://colab.research.google.com/assets/colab-badge.svg\" alt=\"Open In Colab\"/></a>"
      ]
    },
    {
      "cell_type": "markdown",
      "metadata": {
        "id": "hDXfkm4BXzhx",
        "colab_type": "text"
      },
      "source": [
        "# **Project 4**\n",
        "**Author name:** getong liu\n",
        "\n",
        "**Purpose:**\n",
        "\n",
        "performing experiments involving regression using the Beijing PM2.5 Data Set\n",
        "\n",
        "1.Perform data scrubbing (handle missing data, normalization, scaling, etc.)\n",
        "\n",
        "2.Perform linear as well as non-linear regression on the dataset \n",
        "\n",
        "3.Evaluate the performance of  each model using k-fold cross validation\n",
        "\n",
        "4.Plot and compare learning curves for all models \n",
        "\n",
        "5.Fully discuss which model performs the best and why\n",
        "\n"
      ]
    },
    {
      "cell_type": "markdown",
      "metadata": {
        "id": "ma_xBbexY3O8",
        "colab_type": "text"
      },
      "source": [
        "# **Fully discuss**"
      ]
    },
    {
      "cell_type": "markdown",
      "metadata": {
        "id": "sWT5ENMwVOaQ",
        "colab_type": "text"
      },
      "source": [
        "In this project, I uesed linear regression, lasso regression, ridge regression and polynomial regression to deal with the data set. Camparing those regression model, I think we can talk from two ways: K-fold value which is MSE or RMSE value, and learning curves.\n",
        "\n",
        "First of all, let's look at the K-Fold value. According to the code which is runing later. Linear regression, lasso regression and rigde regression almost have the same MSE and RMSE value, average RMSE is above 80. however polynomial regression get the average RMSE is about 77. which means from this way, polynomial regression is best among those regression.\n",
        "\n",
        "Secondly, let's look at the learning curve.\n",
        "From the picture, for all of the model we can know when the training set has only capoule of samples, the model can fit them very well, which is why the curve starts around 6. But when some new samples are added, the degree of fit on the training set becomes unacceptable. This occurs for two reasons. One is because the data contains noise, and the other is that the data is not linear at all. Therefore, as the size of the data increases, the error will continue to increase until it reaches the plateau and stabilizes. After that, continue to add new samples, and the average error of the model will not become better or worse. We continue to look at the performance of the model on the validation set. When training with very few samples, the model cannot be generalized properly, which is why the validation error is very large at first. When the number of training samples increases, the model learns more, and the verification error starts to decrease slowly. However, a straight line cannot fit these data well, so the error will eventually reach a plateau and stabilize, and finally the curve of the training set is very close. \n",
        "\n",
        "According to the above imformation, we can say, eventhough polynomial model of the k-fold value hade a better result, since the value is very close, and also the learning curve are similar too, it is hardly to say which one is the best.  if we must choose one from those four accoding to the two ways, it will be polynomial model."
      ]
    },
    {
      "cell_type": "markdown",
      "metadata": {
        "id": "hClr2qIUXSmH",
        "colab_type": "text"
      },
      "source": [
        "# **Set up**"
      ]
    },
    {
      "cell_type": "markdown",
      "metadata": {
        "id": "0xQZDDzhXSAf",
        "colab_type": "text"
      },
      "source": [
        "First, let's make sure this notebook works well in both python 2 and 3,import a few common modules, ensure MatplotLib plots figures inline and prepare a function to save the figures:"
      ]
    },
    {
      "cell_type": "code",
      "metadata": {
        "id": "Z820MsJnJjVo",
        "colab_type": "code",
        "colab": {}
      },
      "source": [
        "# To support both python 2 and python 3\n",
        "from __future__ import division, print_function, unicode_literals\n",
        "\n",
        "# Common imports\n",
        "import numpy as np\n",
        "import os\n",
        "\n",
        "# to make this notebook's output stable across runs\n",
        "np.random.seed(42)\n",
        "\n",
        "# To plot pretty figures\n",
        "%matplotlib inline\n",
        "import matplotlib as mpl\n",
        "import matplotlib.pyplot as plt\n",
        "mpl.rc('axes', labelsize=14)\n",
        "mpl.rc('xtick', labelsize=12)\n",
        "mpl.rc('ytick', labelsize=12)\n",
        "\n",
        "# Where to save the figures\n",
        "PROJECT_ROOT_DIR = \".\"\n",
        "CHAPTER_ID = \"fundamentals\"\n",
        "\n",
        "def save_fig(fig_id, tight_layout=True):\n",
        "    path = os.path.join(PROJECT_ROOT_DIR, \"images\", CHAPTER_ID, fig_id + \".png\")\n",
        "    print(\"Saving figure\", fig_id)\n",
        "    if tight_layout:\n",
        "        plt.tight_layout()\n",
        "    plt.savefig(path, format='png', dpi=300)\n",
        "\n",
        "# Ignore useless warnings (see SciPy issue #5998)\n",
        "import warnings\n",
        "warnings.filterwarnings(action=\"ignore\", message=\"^internal gelsd\")"
      ],
      "execution_count": 0,
      "outputs": []
    },
    {
      "cell_type": "markdown",
      "metadata": {
        "id": "8reUJxjeUo62",
        "colab_type": "text"
      },
      "source": [
        "**1.Perform data scrubbing (handle missing data, normalization, scaling, etc.)** "
      ]
    },
    {
      "cell_type": "markdown",
      "metadata": {
        "id": "d7R1bKUJjoke",
        "colab_type": "text"
      },
      "source": [
        "# **Get the data**"
      ]
    },
    {
      "cell_type": "markdown",
      "metadata": {
        "id": "CImPBixGVxFI",
        "colab_type": "text"
      },
      "source": [
        "**(1).Loading data**"
      ]
    },
    {
      "cell_type": "markdown",
      "metadata": {
        "id": "5dOM-6GoR1hp",
        "colab_type": "text"
      },
      "source": [
        "\n",
        "\n",
        "Firstly, we should load our data here. last few times, these data set can simply load by keras or download from sklearn, however since we will dealing with lot of another data set in the future,which is not simply load anymore, it is better to find out a good way to load data, except using github, I found google colab can load data from google drive, but we need install opam then also install google-drive-ocamlfuse too first here.\n",
        "\n",
        "secondly, after we install them, we just can simply using 'ls' to list all the file at the drive, and find the file which we need so that we can load it from google drive.\n"
      ]
    },
    {
      "cell_type": "code",
      "metadata": {
        "id": "kVA3CyiCsQ_b",
        "colab_type": "code",
        "outputId": "02ae8653-ca59-465e-81b0-3c09e2f3ef92",
        "colab": {
          "base_uri": "https://localhost:8080/",
          "height": 122
        }
      },
      "source": [
        "from google.colab import drive\n",
        "drive.mount('/content/drive')"
      ],
      "execution_count": 0,
      "outputs": [
        {
          "output_type": "stream",
          "text": [
            "Go to this URL in a browser: https://accounts.google.com/o/oauth2/auth?client_id=947318989803-6bn6qk8qdgf4n4g3pfee6491hc0brc4i.apps.googleusercontent.com&redirect_uri=urn%3aietf%3awg%3aoauth%3a2.0%3aoob&response_type=code&scope=email%20https%3a%2f%2fwww.googleapis.com%2fauth%2fdocs.test%20https%3a%2f%2fwww.googleapis.com%2fauth%2fdrive%20https%3a%2f%2fwww.googleapis.com%2fauth%2fdrive.photos.readonly%20https%3a%2f%2fwww.googleapis.com%2fauth%2fpeopleapi.readonly\n",
            "\n",
            "Enter your authorization code:\n",
            "··········\n",
            "Mounted at /content/drive\n"
          ],
          "name": "stdout"
        }
      ]
    },
    {
      "cell_type": "code",
      "metadata": {
        "id": "wEJ5I2HnxAiq",
        "colab_type": "code",
        "outputId": "db89b8ea-4987-4bca-a96a-f9ab2590095f",
        "colab": {
          "base_uri": "https://localhost:8080/",
          "height": 1000
        }
      },
      "source": [
        "#install opam,then google-drive-ocamlfuse\n",
        "!apt-get install opam\n",
        "!opam init\n",
        "!opam update\n",
        "!opam install depext\n",
        "!opam depext google-drive-ocamlfuse\n",
        "!opam install google-drive-ocamlfuse\n",
        "#give permission\n",
        "from google.colab import auth\n",
        "auth.authenticate_user()\n",
        "from oauth2client.client import GoogleCredentials\n",
        "creds = GoogleCredentials.get_application_default()\n",
        "import getpass\n",
        "!/root/.opam/system/bin/google-drive-ocamlfuse -headless -id={creds.client_id} -secret={creds.client_secret} < /dev/null 2>&1 | grep URL\n",
        "vcode = getpass.getpass()\n",
        "!echo {vcode} | /root/.opam/system/bin/google-drive-ocamlfuse -headless -id={creds.client_id} -secret={creds.client_secret}\n",
        "# choose Google Drive as root directory，named as drive\n",
        "!mkdir -p drive\n",
        "!/root/.opam/system/bin/google-drive-ocamlfuse drive"
      ],
      "execution_count": 0,
      "outputs": [
        {
          "output_type": "stream",
          "text": [
            "Reading package lists... Done\n",
            "Building dependency tree       \n",
            "Reading state information... Done\n",
            "The following package was automatically installed and is no longer required:\n",
            "  libnvidia-common-430\n",
            "Use 'apt autoremove' to remove it.\n",
            "The following additional packages will be installed:\n",
            "  aspcud camlp4 clasp darcs file gringo ledit libcamlp4-ocaml-dev\n",
            "  libfindlib-ocaml libfindlib-ocaml-dev liblua5.3-0 libmagic-mgc libmagic1\n",
            "  mercurial mercurial-common ocaml ocaml-base ocaml-base-nox\n",
            "  ocaml-compiler-libs ocaml-findlib ocaml-interp ocaml-nox opam-docs\n",
            "Suggested packages:\n",
            "  kdiff3 | kdiff3-qt | kompare | meld | tkcvs | mgdiff qct python-mysqldb\n",
            "  python-openssl python-pygments ocaml-doc tuareg-mode | ocaml-mode\n",
            "The following NEW packages will be installed:\n",
            "  aspcud camlp4 clasp darcs file gringo ledit libcamlp4-ocaml-dev\n",
            "  libfindlib-ocaml libfindlib-ocaml-dev liblua5.3-0 libmagic-mgc libmagic1\n",
            "  mercurial mercurial-common ocaml ocaml-base ocaml-base-nox\n",
            "  ocaml-compiler-libs ocaml-findlib ocaml-interp ocaml-nox opam opam-docs\n",
            "0 upgraded, 24 newly installed, 0 to remove and 25 not upgraded.\n",
            "Need to get 84.9 MB of archives.\n",
            "After this operation, 465 MB of additional disk space will be used.\n",
            "Get:1 http://archive.ubuntu.com/ubuntu bionic-updates/main amd64 libmagic-mgc amd64 1:5.32-2ubuntu0.3 [184 kB]\n",
            "Get:2 http://archive.ubuntu.com/ubuntu bionic-updates/main amd64 libmagic1 amd64 1:5.32-2ubuntu0.3 [68.7 kB]\n",
            "Get:3 http://archive.ubuntu.com/ubuntu bionic-updates/main amd64 file amd64 1:5.32-2ubuntu0.3 [22.1 kB]\n",
            "Get:4 http://archive.ubuntu.com/ubuntu bionic/universe amd64 ocaml-base-nox amd64 4.05.0-10ubuntu1 [544 kB]\n",
            "Get:5 http://archive.ubuntu.com/ubuntu bionic/universe amd64 ocaml-compiler-libs amd64 4.05.0-10ubuntu1 [18.9 MB]\n",
            "Get:6 http://archive.ubuntu.com/ubuntu bionic/universe amd64 ocaml-interp amd64 4.05.0-10ubuntu1 [3,466 kB]\n",
            "Get:7 http://archive.ubuntu.com/ubuntu bionic/universe amd64 ocaml-nox amd64 4.05.0-10ubuntu1 [27.5 MB]\n",
            "Get:8 http://archive.ubuntu.com/ubuntu bionic/universe amd64 libcamlp4-ocaml-dev amd64 4.05+1-2 [16.2 MB]\n",
            "Get:9 http://archive.ubuntu.com/ubuntu bionic/universe amd64 camlp4 amd64 4.05+1-2 [4,896 kB]\n",
            "Get:10 http://archive.ubuntu.com/ubuntu bionic/universe amd64 darcs amd64 2.12.5-1 [4,244 kB]\n",
            "Get:11 http://archive.ubuntu.com/ubuntu bionic-updates/main amd64 liblua5.3-0 amd64 5.3.3-1ubuntu0.18.04.1 [115 kB]\n",
            "Get:12 http://archive.ubuntu.com/ubuntu bionic/universe amd64 gringo amd64 5.2.2-5 [2,185 kB]\n",
            "Get:13 http://archive.ubuntu.com/ubuntu bionic/universe amd64 ledit all 2.03-6 [44.9 kB]\n",
            "Get:14 http://archive.ubuntu.com/ubuntu bionic/universe amd64 libfindlib-ocaml amd64 1.7.3-2 [160 kB]\n",
            "Get:15 http://archive.ubuntu.com/ubuntu bionic/universe amd64 libfindlib-ocaml-dev amd64 1.7.3-2 [141 kB]\n",
            "Get:16 http://archive.ubuntu.com/ubuntu bionic-updates/universe amd64 mercurial-common all 4.5.3-1ubuntu2.1 [2,198 kB]\n",
            "Get:17 http://archive.ubuntu.com/ubuntu bionic-updates/universe amd64 mercurial amd64 4.5.3-1ubuntu2.1 [189 kB]\n",
            "Get:18 http://archive.ubuntu.com/ubuntu bionic/universe amd64 ocaml-base amd64 4.05.0-10ubuntu1 [44.9 kB]\n",
            "Get:19 http://archive.ubuntu.com/ubuntu bionic/universe amd64 ocaml amd64 4.05.0-10ubuntu1 [45.6 kB]\n",
            "Get:20 http://archive.ubuntu.com/ubuntu bionic/universe amd64 ocaml-findlib amd64 1.7.3-2 [366 kB]\n",
            "Get:21 http://archive.ubuntu.com/ubuntu bionic/universe amd64 opam-docs all 1.2.2-6 [310 kB]\n",
            "Get:22 http://archive.ubuntu.com/ubuntu bionic/universe amd64 opam amd64 1.2.2-6 [2,277 kB]\n",
            "Get:23 http://archive.ubuntu.com/ubuntu bionic/universe amd64 clasp amd64 3.3.3-3 [621 kB]\n",
            "Get:24 http://archive.ubuntu.com/ubuntu bionic/universe amd64 aspcud amd64 1:1.9.4-1 [137 kB]\n",
            "Fetched 84.9 MB in 7s (12.0 MB/s)\n",
            "Selecting previously unselected package libmagic-mgc.\n",
            "(Reading database ... 134443 files and directories currently installed.)\n",
            "Preparing to unpack .../00-libmagic-mgc_1%3a5.32-2ubuntu0.3_amd64.deb ...\n",
            "Unpacking libmagic-mgc (1:5.32-2ubuntu0.3) ...\n",
            "Selecting previously unselected package libmagic1:amd64.\n",
            "Preparing to unpack .../01-libmagic1_1%3a5.32-2ubuntu0.3_amd64.deb ...\n",
            "Unpacking libmagic1:amd64 (1:5.32-2ubuntu0.3) ...\n",
            "Selecting previously unselected package file.\n",
            "Preparing to unpack .../02-file_1%3a5.32-2ubuntu0.3_amd64.deb ...\n",
            "Unpacking file (1:5.32-2ubuntu0.3) ...\n",
            "Selecting previously unselected package ocaml-base-nox.\n",
            "Preparing to unpack .../03-ocaml-base-nox_4.05.0-10ubuntu1_amd64.deb ...\n",
            "Unpacking ocaml-base-nox (4.05.0-10ubuntu1) ...\n",
            "Selecting previously unselected package ocaml-compiler-libs.\n",
            "Preparing to unpack .../04-ocaml-compiler-libs_4.05.0-10ubuntu1_amd64.deb ...\n",
            "Unpacking ocaml-compiler-libs (4.05.0-10ubuntu1) ...\n",
            "Selecting previously unselected package ocaml-interp.\n",
            "Preparing to unpack .../05-ocaml-interp_4.05.0-10ubuntu1_amd64.deb ...\n",
            "Unpacking ocaml-interp (4.05.0-10ubuntu1) ...\n",
            "Selecting previously unselected package ocaml-nox.\n",
            "Preparing to unpack .../06-ocaml-nox_4.05.0-10ubuntu1_amd64.deb ...\n",
            "Unpacking ocaml-nox (4.05.0-10ubuntu1) ...\n",
            "Selecting previously unselected package libcamlp4-ocaml-dev.\n",
            "Preparing to unpack .../07-libcamlp4-ocaml-dev_4.05+1-2_amd64.deb ...\n",
            "Unpacking libcamlp4-ocaml-dev (4.05+1-2) ...\n",
            "Selecting previously unselected package camlp4.\n",
            "Preparing to unpack .../08-camlp4_4.05+1-2_amd64.deb ...\n",
            "Unpacking camlp4 (4.05+1-2) ...\n",
            "Selecting previously unselected package darcs.\n",
            "Preparing to unpack .../09-darcs_2.12.5-1_amd64.deb ...\n",
            "Unpacking darcs (2.12.5-1) ...\n",
            "Selecting previously unselected package liblua5.3-0:amd64.\n",
            "Preparing to unpack .../10-liblua5.3-0_5.3.3-1ubuntu0.18.04.1_amd64.deb ...\n",
            "Unpacking liblua5.3-0:amd64 (5.3.3-1ubuntu0.18.04.1) ...\n",
            "Selecting previously unselected package gringo.\n",
            "Preparing to unpack .../11-gringo_5.2.2-5_amd64.deb ...\n",
            "Unpacking gringo (5.2.2-5) ...\n",
            "Selecting previously unselected package ledit.\n",
            "Preparing to unpack .../12-ledit_2.03-6_all.deb ...\n",
            "Unpacking ledit (2.03-6) ...\n",
            "Selecting previously unselected package libfindlib-ocaml.\n",
            "Preparing to unpack .../13-libfindlib-ocaml_1.7.3-2_amd64.deb ...\n",
            "Unpacking libfindlib-ocaml (1.7.3-2) ...\n",
            "Selecting previously unselected package libfindlib-ocaml-dev.\n",
            "Preparing to unpack .../14-libfindlib-ocaml-dev_1.7.3-2_amd64.deb ...\n",
            "Unpacking libfindlib-ocaml-dev (1.7.3-2) ...\n",
            "Selecting previously unselected package mercurial-common.\n",
            "Preparing to unpack .../15-mercurial-common_4.5.3-1ubuntu2.1_all.deb ...\n",
            "Unpacking mercurial-common (4.5.3-1ubuntu2.1) ...\n",
            "Selecting previously unselected package mercurial.\n",
            "Preparing to unpack .../16-mercurial_4.5.3-1ubuntu2.1_amd64.deb ...\n",
            "Unpacking mercurial (4.5.3-1ubuntu2.1) ...\n",
            "Selecting previously unselected package ocaml-base.\n",
            "Preparing to unpack .../17-ocaml-base_4.05.0-10ubuntu1_amd64.deb ...\n",
            "Unpacking ocaml-base (4.05.0-10ubuntu1) ...\n",
            "Selecting previously unselected package ocaml.\n",
            "Preparing to unpack .../18-ocaml_4.05.0-10ubuntu1_amd64.deb ...\n",
            "Unpacking ocaml (4.05.0-10ubuntu1) ...\n",
            "Selecting previously unselected package ocaml-findlib.\n",
            "Preparing to unpack .../19-ocaml-findlib_1.7.3-2_amd64.deb ...\n",
            "Unpacking ocaml-findlib (1.7.3-2) ...\n",
            "Selecting previously unselected package opam-docs.\n",
            "Preparing to unpack .../20-opam-docs_1.2.2-6_all.deb ...\n",
            "Unpacking opam-docs (1.2.2-6) ...\n",
            "Selecting previously unselected package opam.\n",
            "Preparing to unpack .../21-opam_1.2.2-6_amd64.deb ...\n",
            "Unpacking opam (1.2.2-6) ...\n",
            "Selecting previously unselected package clasp.\n",
            "Preparing to unpack .../22-clasp_3.3.3-3_amd64.deb ...\n",
            "Unpacking clasp (3.3.3-3) ...\n",
            "Selecting previously unselected package aspcud.\n",
            "Preparing to unpack .../23-aspcud_1%3a1.9.4-1_amd64.deb ...\n",
            "Unpacking aspcud (1:1.9.4-1) ...\n",
            "Setting up opam-docs (1.2.2-6) ...\n",
            "Setting up darcs (2.12.5-1) ...\n",
            "Setting up opam (1.2.2-6) ...\n",
            "Setting up ocaml-base-nox (4.05.0-10ubuntu1) ...\n",
            "Setting up clasp (3.3.3-3) ...\n",
            "Setting up libmagic-mgc (1:5.32-2ubuntu0.3) ...\n",
            "Setting up libmagic1:amd64 (1:5.32-2ubuntu0.3) ...\n",
            "Setting up mercurial-common (4.5.3-1ubuntu2.1) ...\n",
            "Setting up mercurial (4.5.3-1ubuntu2.1) ...\n",
            "\n",
            "Creating config file /etc/mercurial/hgrc.d/hgext.rc with new version\n",
            "Setting up ocaml-base (4.05.0-10ubuntu1) ...\n",
            "Setting up liblua5.3-0:amd64 (5.3.3-1ubuntu0.18.04.1) ...\n",
            "Setting up libfindlib-ocaml (1.7.3-2) ...\n",
            "Setting up ocaml-findlib (1.7.3-2) ...\n",
            "Setting up ledit (2.03-6) ...\n",
            "update-alternatives: using /usr/bin/ledit to provide /usr/bin/readline-editor (readline-editor) in auto mode\n",
            "Setting up gringo (5.2.2-5) ...\n",
            "Setting up file (1:5.32-2ubuntu0.3) ...\n",
            "Setting up aspcud (1:1.9.4-1) ...\n",
            "Setting up ocaml-compiler-libs (4.05.0-10ubuntu1) ...\n",
            "Setting up ocaml-interp (4.05.0-10ubuntu1) ...\n",
            "Setting up ocaml-nox (4.05.0-10ubuntu1) ...\n",
            "Setting up libcamlp4-ocaml-dev (4.05+1-2) ...\n",
            "Setting up ocaml (4.05.0-10ubuntu1) ...\n",
            "Setting up camlp4 (4.05+1-2) ...\n",
            "Setting up libfindlib-ocaml-dev (1.7.3-2) ...\n",
            "Processing triggers for mime-support (3.60ubuntu1) ...\n",
            "Processing triggers for libc-bin (2.27-3ubuntu1) ...\n",
            "/sbin/ldconfig.real: /usr/local/lib/python3.6/dist-packages/ideep4py/lib/libmkldnn.so.0 is not a symbolic link\n",
            "\n",
            "Processing triggers for man-db (2.8.3-2ubuntu0.1) ...\n",
            "\u001b[33m[WARNING]\u001b[m Running as root is not recommended\n",
            "Checking for available remotes: rsync and local, git, mercurial, darcs. Perfect!\n",
            "\u001b[33m[WARNING]\u001b[m Recommended dependencies -- most packages rely on these:\n",
            "            - \u001b[01mm4\u001b[m\n",
            "\n",
            "\n",
            "\u001b[36m=-=-\u001b[m \u001b[01mFetching repository information\u001b[m \u001b[36m=-=-=-=-=-=-=-=-=-=-=-=-=-=-=-=-=-=-=-=-=-=\u001b[m\n",
            "\u001b[K[\u001b[1;34mdefault\u001b[m] synchronized from https://opam.ocaml.org\n",
            "\u001b[1;34m[NOTE]\u001b[m The repository 'default' will be *\u001b[01mpermanently\u001b[m* redirected to\n",
            "       https://opam.ocaml.org/1.2.2 (opam-version < \"2.0~\")\n",
            "\u001b[K[\u001b[1;34mdefault\u001b[m] synchronized from https://opam.ocaml.org/1.2.2\n",
            "\n",
            "\u001b[36m=-=-\u001b[m \u001b[01mGathering sources\u001b[m \u001b[36m=-=-=-=-=-=-=-=-=-=-=-=-=-=-=-=-=-=-=-=-=-=-=-=-=-=-=-=-=\u001b[m\n",
            "\n",
            "\u001b[36m=-=-\u001b[m \u001b[01mProcessing actions\u001b[m \u001b[36m-=-=-=-=-=-=-=-=-=-=-=-=-=-=-=-=-=-=-=-=-=-=-=-=-=-=-=-=\u001b[m\n",
            "\u001b[32m∗ \u001b[m installed \u001b[01mbase-bigarray\u001b[m.base\n",
            "\u001b[32m∗ \u001b[m installed \u001b[01mbase-threads\u001b[m.base\n",
            "\u001b[32m∗ \u001b[m installed \u001b[01mbase-unix\u001b[m.base\n",
            "Done.\n",
            "\n",
            "In normal operation, OPAM only alters files within ~/.opam.\n",
            "\n",
            "During this initialisation, you can allow OPAM to add information to two\n",
            "other files for best results. You can also make these additions manually\n",
            "if you wish.\n",
            "\n",
            "If you agree, OPAM will modify:\n",
            "\n",
            "  - \u001b[36m~/.profile\u001b[m (or a file you specify) to set the right environment\n",
            "    variables and to load the auto-completion scripts for your shell (\u001b[01mbash\u001b[m)\n",
            "    on startup. Specifically, it checks for and appends the following line:\n",
            "\n",
            "    . /root/.opam/opam-init/init.sh > /dev/null 2> /dev/null || true\n",
            "\n",
            "\n",
            "  - \u001b[36m~/.ocamlinit\u001b[m to ensure that non-system installations of `ocamlfind`\n",
            "    (i.e. those installed by OPAM) will work correctly when running the\n",
            "    OCaml toplevel. It does this by adding $OCAML_TOPLEVEL_PATH to the list\n",
            "    of include directories.\n",
            "\n",
            "If you choose to not configure your system now, you can either configure\n",
            "OPAM manually (instructions will be displayed) or launch the automatic setup\n",
            "later by running:\n",
            "\n",
            "   opam config setup -a\n",
            "\n",
            "\n",
            "Do you want OPAM to modify ~/.profile and ~/.ocamlinit?\n",
            "(default is 'no', use 'f' to name a file other than ~/.profile)\n",
            "    [N/y/f] y\n",
            "\n",
            "User configuration:\n",
            "  Generating ~/.ocamlinit.\n",
            "  Updating ~/.profile.\n",
            "Global configuration:\n",
            "  Updating ~/.opam/opam-init/init.sh\n",
            "  Updating ~/.opam/opam-init/init.zsh\n",
            "  Updating ~/.opam/opam-init/init.csh\n",
            "  Updating ~/.opam/opam-init/init.fish\n",
            "# To setup the new switch in the current shell, you need to run:\n",
            "eval `opam config env`\n",
            "\u001b[33m[WARNING]\u001b[m Running as root is not recommended\n",
            "\n",
            "\u001b[36m=-=-\u001b[m \u001b[01mUpdating package repositories\u001b[m \u001b[36m=-=-=-=-=-=-=-=-=-=-=-=-=-=-=-=-=-=-=-=-=-=-=\u001b[m\n",
            "\u001b[K[\u001b[1;34mdefault\u001b[m] synchronized from https://opam.ocaml.org/1.2.2\n",
            "\u001b[33m[WARNING]\u001b[m Running as root is not recommended\n",
            "The following actions will be performed:\n",
            "  \u001b[32m∗ \u001b[m install \u001b[01mdepext\u001b[m 1.0.5\n",
            "\n",
            "\u001b[36m=-=-\u001b[m \u001b[01mGathering sources\u001b[m \u001b[36m=-=-=-=-=-=-=-=-=-=-=-=-=-=-=-=-=-=-=-=-=-=-=-=-=-=-=-=-=\u001b[m\n",
            "\u001b[K[\u001b[1;34mdefault\u001b[m] https://opam.ocaml.org/1.2.2/archives/depext.1.0.5+opam.tar.gz downloaded\n",
            "\n",
            "\u001b[36m=-=-\u001b[m \u001b[01mProcessing actions\u001b[m \u001b[36m-=-=-=-=-=-=-=-=-=-=-=-=-=-=-=-=-=-=-=-=-=-=-=-=-=-=-=-=\u001b[m\n",
            "\u001b[K\u001b[32m∗ \u001b[m installed \u001b[01mdepext\u001b[m.1.0.5\n",
            "Done.\n",
            "# Detecting depexts using flags: x86_64 linux ubuntu\n",
            "# The following system packages are needed:\n",
            "#  - camlp4-extra\n",
            "#  - debianutils\n",
            "#  - libcurl4-gnutls-dev\n",
            "#  - libfuse-dev\n",
            "#  - libgmp-dev\n",
            "#  - libsqlite3-dev\n",
            "#  - m4\n",
            "#  - perl\n",
            "#  - pkg-config\n",
            "#  - zlib1g-dev\n",
            "# The following new OS packages need to be installed: libcurl4-gnutls-dev libfuse-dev libgmp-dev libsqlite3-dev m4\n",
            "Reading package lists... Done\n",
            "Building dependency tree       \n",
            "Reading state information... Done\n",
            "The following package was automatically installed and is no longer required:\n",
            "  libnvidia-common-430\n",
            "Use 'apt autoremove' to remove it.\n",
            "The following additional packages will be installed:\n",
            "  libgmpxx4ldbl libselinux1-dev libsepol1-dev libsigsegv2 libsqlite3-0\n",
            "Suggested packages:\n",
            "  libcurl4-doc libgnutls28-dev libidn11-dev libkrb5-dev libldap2-dev\n",
            "  librtmp-dev libssh2-1-dev gmp-doc libgmp10-doc libmpfr-dev sqlite3-doc\n",
            "  m4-doc\n",
            "The following packages will be REMOVED:\n",
            "  libcurl4-openssl-dev\n",
            "The following NEW packages will be installed:\n",
            "  libcurl4-gnutls-dev libfuse-dev libgmp-dev libgmpxx4ldbl libselinux1-dev\n",
            "  libsepol1-dev libsigsegv2 libsqlite3-dev m4\n",
            "The following packages will be upgraded:\n",
            "  libsqlite3-0\n",
            "1 upgraded, 9 newly installed, 1 to remove and 24 not upgraded.\n",
            "Need to get 2,539 kB of archives.\n",
            "After this operation, 7,336 kB of additional disk space will be used.\n",
            "Get:1 http://archive.ubuntu.com/ubuntu bionic-updates/main amd64 libsqlite3-0 amd64 3.22.0-1ubuntu0.2 [498 kB]\n",
            "Get:2 http://archive.ubuntu.com/ubuntu bionic-updates/main amd64 libcurl4-gnutls-dev amd64 7.58.0-2ubuntu3.8 [294 kB]\n",
            "Get:3 http://archive.ubuntu.com/ubuntu bionic/main amd64 libsepol1-dev amd64 2.7-1 [324 kB]\n",
            "Get:4 http://archive.ubuntu.com/ubuntu bionic/main amd64 libselinux1-dev amd64 2.7-2build2 [149 kB]\n",
            "Get:5 http://archive.ubuntu.com/ubuntu bionic/main amd64 libfuse-dev amd64 2.9.7-1ubuntu1 [105 kB]\n",
            "Get:6 http://archive.ubuntu.com/ubuntu bionic/main amd64 libgmpxx4ldbl amd64 2:6.1.2+dfsg-2 [8,964 B]\n",
            "Get:7 http://archive.ubuntu.com/ubuntu bionic/main amd64 libgmp-dev amd64 2:6.1.2+dfsg-2 [316 kB]\n",
            "Get:8 http://archive.ubuntu.com/ubuntu bionic/main amd64 libsigsegv2 amd64 2.12-1 [14.7 kB]\n",
            "Get:9 http://archive.ubuntu.com/ubuntu bionic-updates/main amd64 libsqlite3-dev amd64 3.22.0-1ubuntu0.2 [632 kB]\n",
            "Get:10 http://archive.ubuntu.com/ubuntu bionic/main amd64 m4 amd64 1.4.18-1 [197 kB]\n",
            "Fetched 2,539 kB in 2s (1,601 kB/s)\n",
            "(Reading database ... 137853 files and directories currently installed.)\n",
            "Removing libcurl4-openssl-dev:amd64 (7.58.0-2ubuntu3.8) ...\n",
            "(Reading database ... 137833 files and directories currently installed.)\n",
            "Preparing to unpack .../0-libsqlite3-0_3.22.0-1ubuntu0.2_amd64.deb ...\n",
            "Unpacking libsqlite3-0:amd64 (3.22.0-1ubuntu0.2) over (3.22.0-1ubuntu0.1) ...\n",
            "Selecting previously unselected package libcurl4-gnutls-dev:amd64.\n",
            "Preparing to unpack .../1-libcurl4-gnutls-dev_7.58.0-2ubuntu3.8_amd64.deb ...\n",
            "Unpacking libcurl4-gnutls-dev:amd64 (7.58.0-2ubuntu3.8) ...\n",
            "Selecting previously unselected package libsepol1-dev:amd64.\n",
            "Preparing to unpack .../2-libsepol1-dev_2.7-1_amd64.deb ...\n",
            "Unpacking libsepol1-dev:amd64 (2.7-1) ...\n",
            "Selecting previously unselected package libselinux1-dev:amd64.\n",
            "Preparing to unpack .../3-libselinux1-dev_2.7-2build2_amd64.deb ...\n",
            "Unpacking libselinux1-dev:amd64 (2.7-2build2) ...\n",
            "Selecting previously unselected package libfuse-dev.\n",
            "Preparing to unpack .../4-libfuse-dev_2.9.7-1ubuntu1_amd64.deb ...\n",
            "Unpacking libfuse-dev (2.9.7-1ubuntu1) ...\n",
            "Selecting previously unselected package libgmpxx4ldbl:amd64.\n",
            "Preparing to unpack .../5-libgmpxx4ldbl_2%3a6.1.2+dfsg-2_amd64.deb ...\n",
            "Unpacking libgmpxx4ldbl:amd64 (2:6.1.2+dfsg-2) ...\n",
            "Selecting previously unselected package libgmp-dev:amd64.\n",
            "Preparing to unpack .../6-libgmp-dev_2%3a6.1.2+dfsg-2_amd64.deb ...\n",
            "Unpacking libgmp-dev:amd64 (2:6.1.2+dfsg-2) ...\n",
            "Selecting previously unselected package libsigsegv2:amd64.\n",
            "Preparing to unpack .../7-libsigsegv2_2.12-1_amd64.deb ...\n",
            "Unpacking libsigsegv2:amd64 (2.12-1) ...\n",
            "Selecting previously unselected package libsqlite3-dev:amd64.\n",
            "Preparing to unpack .../8-libsqlite3-dev_3.22.0-1ubuntu0.2_amd64.deb ...\n",
            "Unpacking libsqlite3-dev:amd64 (3.22.0-1ubuntu0.2) ...\n",
            "Selecting previously unselected package m4.\n",
            "Preparing to unpack .../9-m4_1.4.18-1_amd64.deb ...\n",
            "Unpacking m4 (1.4.18-1) ...\n",
            "Setting up libsepol1-dev:amd64 (2.7-1) ...\n",
            "Setting up libsigsegv2:amd64 (2.12-1) ...\n",
            "Setting up m4 (1.4.18-1) ...\n",
            "Setting up libsqlite3-0:amd64 (3.22.0-1ubuntu0.2) ...\n",
            "Setting up libgmpxx4ldbl:amd64 (2:6.1.2+dfsg-2) ...\n",
            "Setting up libselinux1-dev:amd64 (2.7-2build2) ...\n",
            "Setting up libcurl4-gnutls-dev:amd64 (7.58.0-2ubuntu3.8) ...\n",
            "Setting up libgmp-dev:amd64 (2:6.1.2+dfsg-2) ...\n",
            "Setting up libsqlite3-dev:amd64 (3.22.0-1ubuntu0.2) ...\n",
            "Setting up libfuse-dev (2.9.7-1ubuntu1) ...\n",
            "Processing triggers for man-db (2.8.3-2ubuntu0.1) ...\n",
            "Processing triggers for libc-bin (2.27-3ubuntu1) ...\n",
            "/sbin/ldconfig.real: /usr/local/lib/python3.6/dist-packages/ideep4py/lib/libmkldnn.so.0 is not a symbolic link\n",
            "\n",
            "# OS packages installation successful\n",
            "\u001b[33m[WARNING]\u001b[m Running as root is not recommended\n",
            "The following actions will be performed:\n",
            "  \u001b[32m∗ \u001b[m install \u001b[01mconf-perl\u001b[m              1           [required by zarith]\n",
            "  \u001b[32m∗ \u001b[m install \u001b[01mconf-m4\u001b[m                1           [required by ocamlfind]\n",
            "  \u001b[32m∗ \u001b[m install \u001b[01mconf-gmp\u001b[m               1           [required by conf-gmp-powm-sec, zarith]\n",
            "  \u001b[32m∗ \u001b[m install \u001b[01mconf-pkg-config\u001b[m        1.1         [required by conf-zlib, conf-sqlite3]\n",
            "  \u001b[32m∗ \u001b[m install \u001b[01mconf-libcurl\u001b[m           1           [required by ocurl]\n",
            "  \u001b[32m∗ \u001b[m install \u001b[01mdune\u001b[m                   1.2.1       [required by jbuilder]\n",
            "  \u001b[32m∗ \u001b[m install \u001b[01mcamlidl\u001b[m                1.05        [required by google-drive-ocamlfuse]\n",
            "  \u001b[32m∗ \u001b[m install \u001b[01mconf-which\u001b[m             1           [required by biniou]\n",
            "  \u001b[32m∗ \u001b[m install \u001b[01mocamlbuild\u001b[m             0.12.0      [required by cryptokit]\n",
            "  \u001b[32m∗ \u001b[m install \u001b[01mocamlfind\u001b[m              1.8.0       [required by extlib, cryptokit, ocamlfuse]\n",
            "  \u001b[32m∗ \u001b[m install \u001b[01mconf-gmp-powm-sec\u001b[m      1           [required by cryptokit]\n",
            "  \u001b[32m∗ \u001b[m install \u001b[01mconf-zlib\u001b[m              1           [required by cryptokit]\n",
            "  \u001b[32m∗ \u001b[m install \u001b[01mconf-sqlite3\u001b[m           1           [required by sqlite3]\n",
            "  \u001b[32m∗ \u001b[m install \u001b[01mjbuilder\u001b[m               transition  [required by google-drive-ocamlfuse]\n",
            "  \u001b[32m∗ \u001b[m install \u001b[01mzarith\u001b[m                 1.7         [required by cryptokit]\n",
            "  \u001b[32m∗ \u001b[m install \u001b[01mocurl\u001b[m                  0.8.2       [required by gapi-ocaml]\n",
            "  \u001b[32m∗ \u001b[m install \u001b[01mocamlfuse\u001b[m              2.7.1-cvs5  [required by google-drive-ocamlfuse]\n",
            "  \u001b[32m∗ \u001b[m install \u001b[01mbase-bytes\u001b[m             base        [required by extlib]\n",
            "  \u001b[32m∗ \u001b[m install \u001b[01msexplib0\u001b[m               v0.11.0     [required by base]\n",
            "  \u001b[32m∗ \u001b[m install \u001b[01mresult\u001b[m                 1.3         [required by topkg]\n",
            "  \u001b[32m∗ \u001b[m install \u001b[01measy-format\u001b[m            1.3.1       [required by yojson]\n",
            "  \u001b[32m∗ \u001b[m install \u001b[01mcppo\u001b[m                   1.6.5       [required by extlib]\n",
            "  \u001b[32m∗ \u001b[m install \u001b[01mcryptokit\u001b[m              1.13        [required by google-drive-ocamlfuse]\n",
            "  \u001b[32m∗ \u001b[m install \u001b[01mocamlnet\u001b[m               4.1.6       [required by gapi-ocaml]\n",
            "  \u001b[32m∗ \u001b[m install \u001b[01mbase\u001b[m                   v0.11.1     [required by sqlite3]\n",
            "  \u001b[32m∗ \u001b[m install \u001b[01mtopkg\u001b[m                  0.9.1       [required by xmlm]\n",
            "  \u001b[32m∗ \u001b[m install \u001b[01mbiniou\u001b[m                 1.2.0       [required by yojson]\n",
            "  \u001b[32m∗ \u001b[m install \u001b[01mextlib\u001b[m                 1.7.5       [required by google-drive-ocamlfuse]\n",
            "  \u001b[32m∗ \u001b[m install \u001b[01mstdio\u001b[m                  v0.11.0     [required by sqlite3]\n",
            "  \u001b[32m∗ \u001b[m install \u001b[01mxmlm\u001b[m                   1.3.0       [required by gapi-ocaml]\n",
            "  \u001b[32m∗ \u001b[m install \u001b[01myojson\u001b[m                 1.4.1       [required by gapi-ocaml]\n",
            "  \u001b[32m∗ \u001b[m install \u001b[01mconfigurator\u001b[m           v0.11.0     [required by sqlite3]\n",
            "  \u001b[32m∗ \u001b[m install \u001b[01mgapi-ocaml\u001b[m             0.3.6       [required by google-drive-ocamlfuse]\n",
            "  \u001b[32m∗ \u001b[m install \u001b[01msqlite3\u001b[m                4.4.0       [required by google-drive-ocamlfuse]\n",
            "  \u001b[32m∗ \u001b[m install \u001b[01mgoogle-drive-ocamlfuse\u001b[m 0.6.23    \n",
            "===== \u001b[32m∗ \u001b[m 35 =====\n",
            "Do you want to continue ? [Y/n] Y\n",
            "\n",
            "\u001b[36m=-=-\u001b[m \u001b[01mGathering sources\u001b[m \u001b[36m=-=-=-=-=-=-=-=-=-=-=-=-=-=-=-=-=-=-=-=-=-=-=-=-=-=-=-=-=\u001b[m\n",
            "\u001b[K[\u001b[1;34mdefault\u001b[m] https://opam.ocaml.org/1.2.2/archives/biniou.1.2.0+opam.tar.gz downloaded\n",
            "\u001b[K[\u001b[1;34mdefault\u001b[m] https://opam.ocaml.org/1.2.2/archives/camlidl.1.05+opam.tar.gz downloaded\n",
            "\u001b[K[\u001b[1;34mdefault\u001b[m] https://opam.ocaml.org/1.2.2/archives/configurator.v0.11.0+opam.tar.gz downloaded\n",
            "\u001b[K[\u001b[1;34mdefault\u001b[m] https://opam.ocaml.org/1.2.2/archives/base.v0.11.1+opam.tar.gz downloaded\n",
            "\u001b[K[\u001b[1;34mdefault\u001b[m] https://opam.ocaml.org/1.2.2/archives/cppo.1.6.5+opam.tar.gz downloaded\n",
            "\u001b[K[\u001b[1;34mdefault\u001b[m] https://opam.ocaml.org/1.2.2/archives/easy-format.1.3.1+opam.tar.gz downloaded\n",
            "\u001b[K[\u001b[1;34mdefault\u001b[m] https://opam.ocaml.org/1.2.2/archives/cryptokit.1.13+opam.tar.gz downloaded\n",
            "\u001b[K[\u001b[1;34mdefault\u001b[m] https://opam.ocaml.org/1.2.2/archives/extlib.1.7.5+opam.tar.gz downloaded\n",
            "\u001b[K[\u001b[1;34mdefault\u001b[m] https://opam.ocaml.org/1.2.2/archives/dune.1.2.1+opam.tar.gz downloaded\n",
            "\u001b[K[\u001b[1;34mdefault\u001b[m] https://opam.ocaml.org/1.2.2/archives/gapi-ocaml.0.3.6+opam.tar.gz downloaded\n",
            "\u001b[K[\u001b[1;34mdefault\u001b[m] https://opam.ocaml.org/1.2.2/archives/google-drive-ocamlfuse.0.6.23+opam.tar.gz downloaded\n",
            "\u001b[K[\u001b[1;34mdefault\u001b[m] https://opam.ocaml.org/1.2.2/archives/ocamlbuild.0.12.0+opam.tar.gz downloaded\n",
            "\u001b[K[\u001b[1;34mdefault\u001b[m] https://opam.ocaml.org/1.2.2/archives/ocamlfuse.2.7.1-cvs5+opam.tar.gz downloaded\n",
            "\u001b[K[\u001b[1;34mdefault\u001b[m] https://opam.ocaml.org/1.2.2/archives/ocamlfind.1.8.0+opam.tar.gz downloaded\n",
            "\u001b[K[\u001b[1;34mdefault\u001b[m] https://opam.ocaml.org/1.2.2/archives/result.1.3+opam.tar.gz downloaded\n",
            "\u001b[K[\u001b[1;34mdefault\u001b[m] https://opam.ocaml.org/1.2.2/archives/sexplib0.v0.11.0+opam.tar.gz downloaded\n",
            "\u001b[K[\u001b[1;34mdefault\u001b[m] https://opam.ocaml.org/1.2.2/archives/ocurl.0.8.2+opam.tar.gz downloaded\n",
            "\u001b[K[\u001b[1;34mdefault\u001b[m] https://opam.ocaml.org/1.2.2/archives/sqlite3.4.4.0+opam.tar.gz downloaded\n",
            "\u001b[K[\u001b[1;34mdefault\u001b[m] https://opam.ocaml.org/1.2.2/archives/stdio.v0.11.0+opam.tar.gz downloaded\n",
            "\u001b[K[\u001b[1;34mdefault\u001b[m] https://opam.ocaml.org/1.2.2/archives/xmlm.1.3.0+opam.tar.gz downloaded\n",
            "\u001b[K[\u001b[1;34mdefault\u001b[m] https://opam.ocaml.org/1.2.2/archives/topkg.0.9.1+opam.tar.gz downloaded\n",
            "\u001b[K[\u001b[1;34mdefault\u001b[m] https://opam.ocaml.org/1.2.2/archives/yojson.1.4.1+opam.tar.gz downloaded\n",
            "\u001b[K[\u001b[1;34mdefault\u001b[m] https://opam.ocaml.org/1.2.2/archives/ocamlnet.4.1.6+opam.tar.gz downloaded\n",
            "\u001b[K[\u001b[1;34mdefault\u001b[m] https://opam.ocaml.org/1.2.2/archives/zarith.1.7+opam.tar.gz downloaded\n",
            "\n",
            "\u001b[36m=-=-\u001b[m \u001b[01mProcessing actions\u001b[m \u001b[36m-=-=-=-=-=-=-=-=-=-=-=-=-=-=-=-=-=-=-=-=-=-=-=-=-=-=-=-=\u001b[m\n",
            "\u001b[K\u001b[32m∗ \u001b[m installed \u001b[01mconf-m4\u001b[m.1\n",
            "\u001b[K\u001b[32m∗ \u001b[m installed \u001b[01mconf-perl\u001b[m.1\n",
            "\u001b[K\u001b[32m∗ \u001b[m installed \u001b[01mconf-libcurl\u001b[m.1\n",
            "\u001b[K\u001b[32m∗ \u001b[m installed \u001b[01mconf-pkg-config\u001b[m.1.1\n",
            "\u001b[K\u001b[32m∗ \u001b[m installed \u001b[01mconf-which\u001b[m.1\n",
            "\u001b[K\u001b[32m∗ \u001b[m installed \u001b[01mconf-sqlite3\u001b[m.1\n",
            "\u001b[K\u001b[32m∗ \u001b[m installed \u001b[01mconf-gmp\u001b[m.1\n",
            "\u001b[K\u001b[32m∗ \u001b[m installed \u001b[01mconf-zlib\u001b[m.1\n",
            "\u001b[K\u001b[32m∗ \u001b[m installed \u001b[01mconf-gmp-powm-sec\u001b[m.1\n",
            "\u001b[K\u001b[32m∗ \u001b[m installed \u001b[01mcamlidl\u001b[m.1.05\n",
            "\u001b[K\u001b[32m∗ \u001b[m installed \u001b[01mocamlfind\u001b[m.1.8.0\n",
            "\u001b[K\u001b[32m∗ \u001b[m installed \u001b[01mbase-bytes\u001b[m.base\n",
            "\u001b[K\u001b[32m∗ \u001b[m installed \u001b[01mocamlbuild\u001b[m.0.12.0\n",
            "\u001b[K\u001b[32m∗ \u001b[m installed \u001b[01mocamlfuse\u001b[m.2.7.1-cvs5\n",
            "\u001b[K\u001b[32m∗ \u001b[m installed \u001b[01mdune\u001b[m.1.2.1\n",
            "\u001b[K\u001b[32m∗ \u001b[m installed \u001b[01mjbuilder\u001b[m.transition\n",
            "\u001b[K\u001b[32m∗ \u001b[m installed \u001b[01mzarith\u001b[m.1.7\n",
            "\u001b[K\u001b[32m∗ \u001b[m installed \u001b[01mcppo\u001b[m.1.6.5\n",
            "\u001b[K\u001b[32m∗ \u001b[m installed \u001b[01measy-format\u001b[m.1.3.1\n",
            "\u001b[K\u001b[32m∗ \u001b[m installed \u001b[01mbiniou\u001b[m.1.2.0\n",
            "\u001b[K\u001b[32m∗ \u001b[m installed \u001b[01mextlib\u001b[m.1.7.5\n",
            "\u001b[K\u001b[32m∗ \u001b[m installed \u001b[01mresult\u001b[m.1.3\n",
            "\u001b[K\u001b[32m∗ \u001b[m installed \u001b[01msexplib0\u001b[m.v0.11.0\n",
            "\u001b[K\u001b[32m∗ \u001b[m installed \u001b[01mcryptokit\u001b[m.1.13\n",
            "\u001b[K\u001b[32m∗ \u001b[m installed \u001b[01mtopkg\u001b[m.0.9.1\n",
            "\u001b[K\u001b[32m∗ \u001b[m installed \u001b[01mbase\u001b[m.v0.11.1\n",
            "\u001b[K\u001b[32m∗ \u001b[m installed \u001b[01mxmlm\u001b[m.1.3.0\n",
            "\u001b[K\u001b[32m∗ \u001b[m installed \u001b[01mstdio\u001b[m.v0.11.0\n",
            "\u001b[K\u001b[32m∗ \u001b[m installed \u001b[01mconfigurator\u001b[m.v0.11.0\n",
            "\u001b[K\u001b[32m∗ \u001b[m installed \u001b[01myojson\u001b[m.1.4.1\n",
            "\u001b[K\u001b[32m∗ \u001b[m installed \u001b[01mocurl\u001b[m.0.8.2\n",
            "\u001b[K\u001b[32m∗ \u001b[m installed \u001b[01msqlite3\u001b[m.4.4.0\n",
            "\u001b[K\u001b[32m∗ \u001b[m installed \u001b[01mocamlnet\u001b[m.4.1.6\n",
            "\u001b[K\u001b[32m∗ \u001b[m installed \u001b[01mgapi-ocaml\u001b[m.0.3.6\n",
            "\u001b[K\u001b[32m∗ \u001b[m installed \u001b[01mgoogle-drive-ocamlfuse\u001b[m.0.6.23\n",
            "Done.\n",
            "\n",
            "\u001b[36m=-=-\u001b[m \u001b[01mjbuilder.transition installed successfully\u001b[m \u001b[36m-=-=-=-=-=-=-=-=-=-=-=-=-=-=-=-=\u001b[m\n",
            "\u001b[32m=> \u001b[mJbuilder has been renamed and the jbuilder package is now a transition\n",
            "   package. Use the dune package instead.\n",
            "Please, open the following URL in a web browser: https://accounts.google.com/o/oauth2/auth?client_id=32555940559.apps.googleusercontent.com&redirect_uri=urn%3Aietf%3Awg%3Aoauth%3A2.0%3Aoob&scope=https%3A%2F%2Fwww.googleapis.com%2Fauth%2Fdrive&response_type=code&access_type=offline&approval_prompt=force\n",
            "··········\n",
            "Please, open the following URL in a web browser: https://accounts.google.com/o/oauth2/auth?client_id=32555940559.apps.googleusercontent.com&redirect_uri=urn%3Aietf%3Awg%3Aoauth%3A2.0%3Aoob&scope=https%3A%2F%2Fwww.googleapis.com%2Fauth%2Fdrive&response_type=code&access_type=offline&approval_prompt=force\n",
            "Please enter the verification code: Access token retrieved correctly.\n",
            "fuse: mountpoint is not empty\n",
            "fuse: if you are sure this is safe, use the 'nonempty' mount option\n"
          ],
          "name": "stdout"
        }
      ]
    },
    {
      "cell_type": "code",
      "metadata": {
        "id": "znNDQSNbzb4g",
        "colab_type": "code",
        "outputId": "77a97b10-9c3c-42a9-80ca-0eed3d9caada",
        "colab": {
          "base_uri": "https://localhost:8080/",
          "height": 34
        }
      },
      "source": [
        "\n",
        "%ls /content"
      ],
      "execution_count": 0,
      "outputs": [
        {
          "output_type": "stream",
          "text": [
            "adc.json  \u001b[0m\u001b[01;34mdrive\u001b[0m/  \u001b[01;34msample_data\u001b[0m/\n"
          ],
          "name": "stdout"
        }
      ]
    },
    {
      "cell_type": "code",
      "metadata": {
        "id": "jqNNNCcWzjjE",
        "colab_type": "code",
        "outputId": "4beed9bc-0fd4-434f-e48b-04d7b17bb161",
        "colab": {
          "base_uri": "https://localhost:8080/",
          "height": 34
        }
      },
      "source": [
        "\n",
        "%cd /content/drive/My Drive/Colab Notebooks"
      ],
      "execution_count": 0,
      "outputs": [
        {
          "output_type": "stream",
          "text": [
            "/content/drive/My Drive/Colab Notebooks\n"
          ],
          "name": "stdout"
        }
      ]
    },
    {
      "cell_type": "code",
      "metadata": {
        "id": "xtw1gL0Vz-9a",
        "colab_type": "code",
        "outputId": "c0c04d85-eb4b-4b65-c703-7e6e1dca2bd3",
        "colab": {
          "base_uri": "https://localhost:8080/",
          "height": 102
        }
      },
      "source": [
        "%ls"
      ],
      "execution_count": 0,
      "outputs": [
        {
          "output_type": "stream",
          "text": [
            "'AMLASSIGN3 (1).ipynb'   PRSA_data_2010.1.1-2014.12.31.csv   Untitled0.ipynb\n",
            "'AMLASSIGN3 (2).ipynb'  'svm (1).ipynb'                      Untitled1.ipynb\n",
            " AMLASSIGN3.ipynb       'svm (2).ipynb'                      Untitled.ipynb\n",
            "'Copy of Untitled'       svm.ipynb\n",
            " project2.ipynb         'SVM PCA RandomForest.ipynb'\n"
          ],
          "name": "stdout"
        }
      ]
    },
    {
      "cell_type": "code",
      "metadata": {
        "id": "9bDGhYOt0aId",
        "colab_type": "code",
        "outputId": "7c2d798b-b1b3-40fd-9e6a-8b8f0ef9a340",
        "colab": {
          "base_uri": "https://localhost:8080/",
          "height": 34
        }
      },
      "source": [
        "from google.colab import drive\n",
        "drive.mount('/content/gdrive')"
      ],
      "execution_count": 0,
      "outputs": [
        {
          "output_type": "stream",
          "text": [
            "Drive already mounted at /content/gdrive; to attempt to forcibly remount, call drive.mount(\"/content/gdrive\", force_remount=True).\n"
          ],
          "name": "stdout"
        }
      ]
    },
    {
      "cell_type": "markdown",
      "metadata": {
        "id": "3H-CcGbaVopi",
        "colab_type": "text"
      },
      "source": [
        "**(2).Imput all the necessary package**"
      ]
    },
    {
      "cell_type": "code",
      "metadata": {
        "id": "jdRpFSlx_4T_",
        "colab_type": "code",
        "colab": {}
      },
      "source": [
        "import pandas as pd\n",
        "import numpy as np\n",
        "import matplotlib.pyplot as plt\n",
        "import seaborn as sns\n",
        "import os\n",
        "from sklearn.model_selection import train_test_split\n",
        "from sklearn.metrics import mean_squared_error\n",
        "from sklearn.model_selection import cross_val_score\n",
        "from sklearn.model_selection import GridSearchCV\n",
        "import warnings\n",
        "# filter warnings\n",
        "warnings.filterwarnings('ignore')\n",
        "import matplotlib.pyplot as plt\n",
        "from sklearn import linear_model\n",
        "from sklearn.model_selection import KFold\n",
        "from sklearn.linear_model import LinearRegression\n",
        "from sklearn.preprocessing import StandardScaler\n",
        "from sklearn.preprocessing import PolynomialFeatures\n",
        "from sklearn import preprocessing\n",
        "from sklearn.metrics import mean_squared_error,r2_score\n",
        "from sklearn.linear_model import Ridge\n",
        "\n"
      ],
      "execution_count": 0,
      "outputs": []
    },
    {
      "cell_type": "code",
      "metadata": {
        "id": "yDhudytZ1pSv",
        "colab_type": "code",
        "colab": {}
      },
      "source": [
        "os.chdir(\"/content/gdrive/My Drive/\")"
      ],
      "execution_count": 0,
      "outputs": []
    },
    {
      "cell_type": "markdown",
      "metadata": {
        "id": "tybWFB_gW_6O",
        "colab_type": "text"
      },
      "source": [
        "**(3).show the data information by column, and show the data's type imformation, also plot each data's picture.**"
      ]
    },
    {
      "cell_type": "code",
      "metadata": {
        "id": "USpxhAHm1svk",
        "colab_type": "code",
        "outputId": "c69a7c5e-e46f-4d56-95c3-5b08e3c27b2e",
        "colab": {
          "base_uri": "https://localhost:8080/",
          "height": 204
        }
      },
      "source": [
        "df=pd.read_csv(\"./Colab Notebooks/PRSA_data_2010.1.1-2014.12.31.csv\")\n",
        "df.head()\n"
      ],
      "execution_count": 0,
      "outputs": [
        {
          "output_type": "execute_result",
          "data": {
            "text/html": [
              "<div>\n",
              "<style scoped>\n",
              "    .dataframe tbody tr th:only-of-type {\n",
              "        vertical-align: middle;\n",
              "    }\n",
              "\n",
              "    .dataframe tbody tr th {\n",
              "        vertical-align: top;\n",
              "    }\n",
              "\n",
              "    .dataframe thead th {\n",
              "        text-align: right;\n",
              "    }\n",
              "</style>\n",
              "<table border=\"1\" class=\"dataframe\">\n",
              "  <thead>\n",
              "    <tr style=\"text-align: right;\">\n",
              "      <th></th>\n",
              "      <th>No</th>\n",
              "      <th>year</th>\n",
              "      <th>month</th>\n",
              "      <th>day</th>\n",
              "      <th>hour</th>\n",
              "      <th>pm2.5</th>\n",
              "      <th>DEWP</th>\n",
              "      <th>TEMP</th>\n",
              "      <th>PRES</th>\n",
              "      <th>cbwd</th>\n",
              "      <th>Iws</th>\n",
              "      <th>Is</th>\n",
              "      <th>Ir</th>\n",
              "    </tr>\n",
              "  </thead>\n",
              "  <tbody>\n",
              "    <tr>\n",
              "      <th>0</th>\n",
              "      <td>1</td>\n",
              "      <td>2010</td>\n",
              "      <td>1</td>\n",
              "      <td>1</td>\n",
              "      <td>0</td>\n",
              "      <td>NaN</td>\n",
              "      <td>-21</td>\n",
              "      <td>-11.0</td>\n",
              "      <td>1021.0</td>\n",
              "      <td>NW</td>\n",
              "      <td>1.79</td>\n",
              "      <td>0</td>\n",
              "      <td>0</td>\n",
              "    </tr>\n",
              "    <tr>\n",
              "      <th>1</th>\n",
              "      <td>2</td>\n",
              "      <td>2010</td>\n",
              "      <td>1</td>\n",
              "      <td>1</td>\n",
              "      <td>1</td>\n",
              "      <td>NaN</td>\n",
              "      <td>-21</td>\n",
              "      <td>-12.0</td>\n",
              "      <td>1020.0</td>\n",
              "      <td>NW</td>\n",
              "      <td>4.92</td>\n",
              "      <td>0</td>\n",
              "      <td>0</td>\n",
              "    </tr>\n",
              "    <tr>\n",
              "      <th>2</th>\n",
              "      <td>3</td>\n",
              "      <td>2010</td>\n",
              "      <td>1</td>\n",
              "      <td>1</td>\n",
              "      <td>2</td>\n",
              "      <td>NaN</td>\n",
              "      <td>-21</td>\n",
              "      <td>-11.0</td>\n",
              "      <td>1019.0</td>\n",
              "      <td>NW</td>\n",
              "      <td>6.71</td>\n",
              "      <td>0</td>\n",
              "      <td>0</td>\n",
              "    </tr>\n",
              "    <tr>\n",
              "      <th>3</th>\n",
              "      <td>4</td>\n",
              "      <td>2010</td>\n",
              "      <td>1</td>\n",
              "      <td>1</td>\n",
              "      <td>3</td>\n",
              "      <td>NaN</td>\n",
              "      <td>-21</td>\n",
              "      <td>-14.0</td>\n",
              "      <td>1019.0</td>\n",
              "      <td>NW</td>\n",
              "      <td>9.84</td>\n",
              "      <td>0</td>\n",
              "      <td>0</td>\n",
              "    </tr>\n",
              "    <tr>\n",
              "      <th>4</th>\n",
              "      <td>5</td>\n",
              "      <td>2010</td>\n",
              "      <td>1</td>\n",
              "      <td>1</td>\n",
              "      <td>4</td>\n",
              "      <td>NaN</td>\n",
              "      <td>-20</td>\n",
              "      <td>-12.0</td>\n",
              "      <td>1018.0</td>\n",
              "      <td>NW</td>\n",
              "      <td>12.97</td>\n",
              "      <td>0</td>\n",
              "      <td>0</td>\n",
              "    </tr>\n",
              "  </tbody>\n",
              "</table>\n",
              "</div>"
            ],
            "text/plain": [
              "   No  year  month  day  hour  pm2.5  DEWP  TEMP    PRES cbwd    Iws  Is  Ir\n",
              "0   1  2010      1    1     0    NaN   -21 -11.0  1021.0   NW   1.79   0   0\n",
              "1   2  2010      1    1     1    NaN   -21 -12.0  1020.0   NW   4.92   0   0\n",
              "2   3  2010      1    1     2    NaN   -21 -11.0  1019.0   NW   6.71   0   0\n",
              "3   4  2010      1    1     3    NaN   -21 -14.0  1019.0   NW   9.84   0   0\n",
              "4   5  2010      1    1     4    NaN   -20 -12.0  1018.0   NW  12.97   0   0"
            ]
          },
          "metadata": {
            "tags": []
          },
          "execution_count": 364
        }
      ]
    },
    {
      "cell_type": "code",
      "metadata": {
        "id": "1GvJlyOlyPNI",
        "colab_type": "code",
        "outputId": "cd963468-85f8-4c06-8c57-1b19a7e9f552",
        "colab": {
          "base_uri": "https://localhost:8080/",
          "height": 323
        }
      },
      "source": [
        "df.info()"
      ],
      "execution_count": 0,
      "outputs": [
        {
          "output_type": "stream",
          "text": [
            "<class 'pandas.core.frame.DataFrame'>\n",
            "RangeIndex: 43824 entries, 0 to 43823\n",
            "Data columns (total 13 columns):\n",
            "No       43824 non-null int64\n",
            "year     43824 non-null int64\n",
            "month    43824 non-null int64\n",
            "day      43824 non-null int64\n",
            "hour     43824 non-null int64\n",
            "pm2.5    41757 non-null float64\n",
            "DEWP     43824 non-null int64\n",
            "TEMP     43824 non-null float64\n",
            "PRES     43824 non-null float64\n",
            "cbwd     43824 non-null object\n",
            "Iws      43824 non-null float64\n",
            "Is       43824 non-null int64\n",
            "Ir       43824 non-null int64\n",
            "dtypes: float64(4), int64(8), object(1)\n",
            "memory usage: 4.3+ MB\n"
          ],
          "name": "stdout"
        }
      ]
    },
    {
      "cell_type": "code",
      "metadata": {
        "id": "Gf__-SfF0s22",
        "colab_type": "code",
        "outputId": "6b476f58-7f9f-4152-ad5a-e182e992571e",
        "colab": {
          "base_uri": "https://localhost:8080/",
          "height": 297
        }
      },
      "source": [
        "df.describe()"
      ],
      "execution_count": 0,
      "outputs": [
        {
          "output_type": "execute_result",
          "data": {
            "text/html": [
              "<div>\n",
              "<style scoped>\n",
              "    .dataframe tbody tr th:only-of-type {\n",
              "        vertical-align: middle;\n",
              "    }\n",
              "\n",
              "    .dataframe tbody tr th {\n",
              "        vertical-align: top;\n",
              "    }\n",
              "\n",
              "    .dataframe thead th {\n",
              "        text-align: right;\n",
              "    }\n",
              "</style>\n",
              "<table border=\"1\" class=\"dataframe\">\n",
              "  <thead>\n",
              "    <tr style=\"text-align: right;\">\n",
              "      <th></th>\n",
              "      <th>No</th>\n",
              "      <th>year</th>\n",
              "      <th>month</th>\n",
              "      <th>day</th>\n",
              "      <th>hour</th>\n",
              "      <th>pm2.5</th>\n",
              "      <th>DEWP</th>\n",
              "      <th>TEMP</th>\n",
              "      <th>PRES</th>\n",
              "      <th>Iws</th>\n",
              "      <th>Is</th>\n",
              "      <th>Ir</th>\n",
              "    </tr>\n",
              "  </thead>\n",
              "  <tbody>\n",
              "    <tr>\n",
              "      <th>count</th>\n",
              "      <td>43824.000000</td>\n",
              "      <td>43824.000000</td>\n",
              "      <td>43824.000000</td>\n",
              "      <td>43824.000000</td>\n",
              "      <td>43824.000000</td>\n",
              "      <td>41757.000000</td>\n",
              "      <td>43824.000000</td>\n",
              "      <td>43824.000000</td>\n",
              "      <td>43824.000000</td>\n",
              "      <td>43824.000000</td>\n",
              "      <td>43824.000000</td>\n",
              "      <td>43824.000000</td>\n",
              "    </tr>\n",
              "    <tr>\n",
              "      <th>mean</th>\n",
              "      <td>21912.500000</td>\n",
              "      <td>2012.000000</td>\n",
              "      <td>6.523549</td>\n",
              "      <td>15.727820</td>\n",
              "      <td>11.500000</td>\n",
              "      <td>98.613215</td>\n",
              "      <td>1.817246</td>\n",
              "      <td>12.448521</td>\n",
              "      <td>1016.447654</td>\n",
              "      <td>23.889140</td>\n",
              "      <td>0.052734</td>\n",
              "      <td>0.194916</td>\n",
              "    </tr>\n",
              "    <tr>\n",
              "      <th>std</th>\n",
              "      <td>12651.043435</td>\n",
              "      <td>1.413842</td>\n",
              "      <td>3.448572</td>\n",
              "      <td>8.799425</td>\n",
              "      <td>6.922266</td>\n",
              "      <td>92.050387</td>\n",
              "      <td>14.433440</td>\n",
              "      <td>12.198613</td>\n",
              "      <td>10.268698</td>\n",
              "      <td>50.010635</td>\n",
              "      <td>0.760375</td>\n",
              "      <td>1.415867</td>\n",
              "    </tr>\n",
              "    <tr>\n",
              "      <th>min</th>\n",
              "      <td>1.000000</td>\n",
              "      <td>2010.000000</td>\n",
              "      <td>1.000000</td>\n",
              "      <td>1.000000</td>\n",
              "      <td>0.000000</td>\n",
              "      <td>0.000000</td>\n",
              "      <td>-40.000000</td>\n",
              "      <td>-19.000000</td>\n",
              "      <td>991.000000</td>\n",
              "      <td>0.450000</td>\n",
              "      <td>0.000000</td>\n",
              "      <td>0.000000</td>\n",
              "    </tr>\n",
              "    <tr>\n",
              "      <th>25%</th>\n",
              "      <td>10956.750000</td>\n",
              "      <td>2011.000000</td>\n",
              "      <td>4.000000</td>\n",
              "      <td>8.000000</td>\n",
              "      <td>5.750000</td>\n",
              "      <td>29.000000</td>\n",
              "      <td>-10.000000</td>\n",
              "      <td>2.000000</td>\n",
              "      <td>1008.000000</td>\n",
              "      <td>1.790000</td>\n",
              "      <td>0.000000</td>\n",
              "      <td>0.000000</td>\n",
              "    </tr>\n",
              "    <tr>\n",
              "      <th>50%</th>\n",
              "      <td>21912.500000</td>\n",
              "      <td>2012.000000</td>\n",
              "      <td>7.000000</td>\n",
              "      <td>16.000000</td>\n",
              "      <td>11.500000</td>\n",
              "      <td>72.000000</td>\n",
              "      <td>2.000000</td>\n",
              "      <td>14.000000</td>\n",
              "      <td>1016.000000</td>\n",
              "      <td>5.370000</td>\n",
              "      <td>0.000000</td>\n",
              "      <td>0.000000</td>\n",
              "    </tr>\n",
              "    <tr>\n",
              "      <th>75%</th>\n",
              "      <td>32868.250000</td>\n",
              "      <td>2013.000000</td>\n",
              "      <td>10.000000</td>\n",
              "      <td>23.000000</td>\n",
              "      <td>17.250000</td>\n",
              "      <td>137.000000</td>\n",
              "      <td>15.000000</td>\n",
              "      <td>23.000000</td>\n",
              "      <td>1025.000000</td>\n",
              "      <td>21.910000</td>\n",
              "      <td>0.000000</td>\n",
              "      <td>0.000000</td>\n",
              "    </tr>\n",
              "    <tr>\n",
              "      <th>max</th>\n",
              "      <td>43824.000000</td>\n",
              "      <td>2014.000000</td>\n",
              "      <td>12.000000</td>\n",
              "      <td>31.000000</td>\n",
              "      <td>23.000000</td>\n",
              "      <td>994.000000</td>\n",
              "      <td>28.000000</td>\n",
              "      <td>42.000000</td>\n",
              "      <td>1046.000000</td>\n",
              "      <td>585.600000</td>\n",
              "      <td>27.000000</td>\n",
              "      <td>36.000000</td>\n",
              "    </tr>\n",
              "  </tbody>\n",
              "</table>\n",
              "</div>"
            ],
            "text/plain": [
              "                 No          year  ...            Is            Ir\n",
              "count  43824.000000  43824.000000  ...  43824.000000  43824.000000\n",
              "mean   21912.500000   2012.000000  ...      0.052734      0.194916\n",
              "std    12651.043435      1.413842  ...      0.760375      1.415867\n",
              "min        1.000000   2010.000000  ...      0.000000      0.000000\n",
              "25%    10956.750000   2011.000000  ...      0.000000      0.000000\n",
              "50%    21912.500000   2012.000000  ...      0.000000      0.000000\n",
              "75%    32868.250000   2013.000000  ...      0.000000      0.000000\n",
              "max    43824.000000   2014.000000  ...     27.000000     36.000000\n",
              "\n",
              "[8 rows x 12 columns]"
            ]
          },
          "metadata": {
            "tags": []
          },
          "execution_count": 366
        }
      ]
    },
    {
      "cell_type": "code",
      "metadata": {
        "id": "quLVdP483HeF",
        "colab_type": "code",
        "outputId": "d654f9e0-9937-446e-d131-8c6abc7d85a2",
        "colab": {
          "base_uri": "https://localhost:8080/",
          "height": 882
        }
      },
      "source": [
        "%matplotlib inline\n",
        "\n",
        "df.hist(bins=50, figsize=(20,15))\n",
        "plt.show()"
      ],
      "execution_count": 0,
      "outputs": [
        {
          "output_type": "display_data",
          "data": {
            "image/png": "[encoded data removed]",
            "text/plain": [
              "<Figure size 1440x1080 with 12 Axes>"
            ]
          },
          "metadata": {
            "tags": []
          }
        }
      ]
    },
    {
      "cell_type": "markdown",
      "metadata": {
        "id": "HcA4CYYj_V1N",
        "colab_type": "text"
      },
      "source": [
        "# **Prepare the data for Machine Learning algorithms**"
      ]
    },
    {
      "cell_type": "markdown",
      "metadata": {
        "id": "hWqiSVdbYUSs",
        "colab_type": "text"
      },
      "source": [
        "**now, for machine learning algorithms, we need hadlding all the data.**\n",
        "\n",
        "Firstly, sometimes due to data mising, there are some NA value at the data set, which will impact our result, so we need check where and how much missing data we have. \n",
        "\n",
        "Secondly,after we using 'df.isna().sum()', it shows that only 2067 missing data of pm 2.5, comparing with the whole dataset which have 43824 data, it is very small, so I choosed drop all the NA data.(but I also used anther way which is add median value inside NA place, however, the results shows dropping NA data will get higher predict value).\n",
        "\n",
        "thirdly, because if we need do algorithms, we need to change all the column's value to be number, however cbwd is not number here, so I replaced these value by number."
      ]
    },
    {
      "cell_type": "code",
      "metadata": {
        "id": "7qCVSsI1-VHi",
        "colab_type": "code",
        "outputId": "4a61a29d-755d-4433-dc0f-50f55e281d0d",
        "colab": {
          "base_uri": "https://localhost:8080/",
          "height": 255
        }
      },
      "source": [
        "df.isna().sum()"
      ],
      "execution_count": 0,
      "outputs": [
        {
          "output_type": "execute_result",
          "data": {
            "text/plain": [
              "No          0\n",
              "year        0\n",
              "month       0\n",
              "day         0\n",
              "hour        0\n",
              "pm2.5    2067\n",
              "DEWP        0\n",
              "TEMP        0\n",
              "PRES        0\n",
              "cbwd        0\n",
              "Iws         0\n",
              "Is          0\n",
              "Ir          0\n",
              "dtype: int64"
            ]
          },
          "metadata": {
            "tags": []
          },
          "execution_count": 368
        }
      ]
    },
    {
      "cell_type": "code",
      "metadata": {
        "id": "EXXrhCzP-mPg",
        "colab_type": "code",
        "colab": {}
      },
      "source": [
        "df.dropna(inplace=True)"
      ],
      "execution_count": 0,
      "outputs": []
    },
    {
      "cell_type": "code",
      "metadata": {
        "id": "e545XD3H-reL",
        "colab_type": "code",
        "outputId": "3db26e9e-3e18-4bdf-9374-fbef23693046",
        "colab": {
          "base_uri": "https://localhost:8080/",
          "height": 323
        }
      },
      "source": [
        "df.info()"
      ],
      "execution_count": 0,
      "outputs": [
        {
          "output_type": "stream",
          "text": [
            "<class 'pandas.core.frame.DataFrame'>\n",
            "Int64Index: 41757 entries, 24 to 43823\n",
            "Data columns (total 13 columns):\n",
            "No       41757 non-null int64\n",
            "year     41757 non-null int64\n",
            "month    41757 non-null int64\n",
            "day      41757 non-null int64\n",
            "hour     41757 non-null int64\n",
            "pm2.5    41757 non-null float64\n",
            "DEWP     41757 non-null int64\n",
            "TEMP     41757 non-null float64\n",
            "PRES     41757 non-null float64\n",
            "cbwd     41757 non-null object\n",
            "Iws      41757 non-null float64\n",
            "Is       41757 non-null int64\n",
            "Ir       41757 non-null int64\n",
            "dtypes: float64(4), int64(8), object(1)\n",
            "memory usage: 4.5+ MB\n"
          ],
          "name": "stdout"
        }
      ]
    },
    {
      "cell_type": "code",
      "metadata": {
        "id": "NkGTCoejAdor",
        "colab_type": "code",
        "outputId": "1ab41860-c01f-4774-bbe7-774fe21b4578",
        "colab": {
          "base_uri": "https://localhost:8080/",
          "height": 359
        }
      },
      "source": [
        "df_word = df[['cbwd']]\n",
        "df_word.head(10)"
      ],
      "execution_count": 0,
      "outputs": [
        {
          "output_type": "execute_result",
          "data": {
            "text/html": [
              "<div>\n",
              "<style scoped>\n",
              "    .dataframe tbody tr th:only-of-type {\n",
              "        vertical-align: middle;\n",
              "    }\n",
              "\n",
              "    .dataframe tbody tr th {\n",
              "        vertical-align: top;\n",
              "    }\n",
              "\n",
              "    .dataframe thead th {\n",
              "        text-align: right;\n",
              "    }\n",
              "</style>\n",
              "<table border=\"1\" class=\"dataframe\">\n",
              "  <thead>\n",
              "    <tr style=\"text-align: right;\">\n",
              "      <th></th>\n",
              "      <th>cbwd</th>\n",
              "    </tr>\n",
              "  </thead>\n",
              "  <tbody>\n",
              "    <tr>\n",
              "      <th>24</th>\n",
              "      <td>SE</td>\n",
              "    </tr>\n",
              "    <tr>\n",
              "      <th>25</th>\n",
              "      <td>SE</td>\n",
              "    </tr>\n",
              "    <tr>\n",
              "      <th>26</th>\n",
              "      <td>SE</td>\n",
              "    </tr>\n",
              "    <tr>\n",
              "      <th>27</th>\n",
              "      <td>SE</td>\n",
              "    </tr>\n",
              "    <tr>\n",
              "      <th>28</th>\n",
              "      <td>SE</td>\n",
              "    </tr>\n",
              "    <tr>\n",
              "      <th>29</th>\n",
              "      <td>SE</td>\n",
              "    </tr>\n",
              "    <tr>\n",
              "      <th>30</th>\n",
              "      <td>SE</td>\n",
              "    </tr>\n",
              "    <tr>\n",
              "      <th>31</th>\n",
              "      <td>SE</td>\n",
              "    </tr>\n",
              "    <tr>\n",
              "      <th>32</th>\n",
              "      <td>SE</td>\n",
              "    </tr>\n",
              "    <tr>\n",
              "      <th>33</th>\n",
              "      <td>SE</td>\n",
              "    </tr>\n",
              "  </tbody>\n",
              "</table>\n",
              "</div>"
            ],
            "text/plain": [
              "   cbwd\n",
              "24   SE\n",
              "25   SE\n",
              "26   SE\n",
              "27   SE\n",
              "28   SE\n",
              "29   SE\n",
              "30   SE\n",
              "31   SE\n",
              "32   SE\n",
              "33   SE"
            ]
          },
          "metadata": {
            "tags": []
          },
          "execution_count": 371
        }
      ]
    },
    {
      "cell_type": "code",
      "metadata": {
        "id": "fm-iI1ZZAAD0",
        "colab_type": "code",
        "colab": {}
      },
      "source": [
        "try:\n",
        "    from sklearn.preprocessing import OrdinalEncoder\n",
        "except ImportError:\n",
        "    from future_encoders import OrdinalEncoder # Scikit-Learn < 0.20"
      ],
      "execution_count": 0,
      "outputs": []
    },
    {
      "cell_type": "markdown",
      "metadata": {
        "id": "almPe3I0hi6t",
        "colab_type": "text"
      },
      "source": [
        "**check whether encdoe or not**"
      ]
    },
    {
      "cell_type": "code",
      "metadata": {
        "id": "FxfEb1DgADmV",
        "colab_type": "code",
        "outputId": "62fe91ad-03ab-4147-dff9-005a7ac87768",
        "colab": {
          "base_uri": "https://localhost:8080/",
          "height": 867
        }
      },
      "source": [
        "ordinal_encoder = OrdinalEncoder()\n",
        "df_encoded = ordinal_encoder.fit_transform(df_word)\n",
        "df_encoded[:50]"
      ],
      "execution_count": 0,
      "outputs": [
        {
          "output_type": "execute_result",
          "data": {
            "text/plain": [
              "array([[2.],\n",
              "       [2.],\n",
              "       [2.],\n",
              "       [2.],\n",
              "       [2.],\n",
              "       [2.],\n",
              "       [2.],\n",
              "       [2.],\n",
              "       [2.],\n",
              "       [2.],\n",
              "       [2.],\n",
              "       [2.],\n",
              "       [2.],\n",
              "       [2.],\n",
              "       [2.],\n",
              "       [2.],\n",
              "       [2.],\n",
              "       [2.],\n",
              "       [2.],\n",
              "       [2.],\n",
              "       [2.],\n",
              "       [2.],\n",
              "       [2.],\n",
              "       [2.],\n",
              "       [2.],\n",
              "       [2.],\n",
              "       [2.],\n",
              "       [2.],\n",
              "       [2.],\n",
              "       [2.],\n",
              "       [2.],\n",
              "       [2.],\n",
              "       [2.],\n",
              "       [2.],\n",
              "       [2.],\n",
              "       [2.],\n",
              "       [2.],\n",
              "       [2.],\n",
              "       [2.],\n",
              "       [2.],\n",
              "       [2.],\n",
              "       [2.],\n",
              "       [3.],\n",
              "       [3.],\n",
              "       [1.],\n",
              "       [1.],\n",
              "       [1.],\n",
              "       [1.],\n",
              "       [1.],\n",
              "       [1.]])"
            ]
          },
          "metadata": {
            "tags": []
          },
          "execution_count": 373
        }
      ]
    },
    {
      "cell_type": "code",
      "metadata": {
        "id": "cHKAIbJIBzrX",
        "colab_type": "code",
        "outputId": "b1dd085d-f564-498d-cb72-370ae1af067f",
        "colab": {
          "base_uri": "https://localhost:8080/",
          "height": 34
        }
      },
      "source": [
        "ordinal_encoder.categories_"
      ],
      "execution_count": 0,
      "outputs": [
        {
          "output_type": "execute_result",
          "data": {
            "text/plain": [
              "[array(['NE', 'NW', 'SE', 'cv'], dtype=object)]"
            ]
          },
          "metadata": {
            "tags": []
          },
          "execution_count": 374
        }
      ]
    },
    {
      "cell_type": "code",
      "metadata": {
        "id": "Y777bPzuC4yE",
        "colab_type": "code",
        "outputId": "8bddc2af-429c-47fb-c504-61b61b1a1126",
        "colab": {
          "base_uri": "https://localhost:8080/",
          "height": 68
        }
      },
      "source": [
        "df.columns"
      ],
      "execution_count": 0,
      "outputs": [
        {
          "output_type": "execute_result",
          "data": {
            "text/plain": [
              "Index(['No', 'year', 'month', 'day', 'hour', 'pm2.5', 'DEWP', 'TEMP', 'PRES',\n",
              "       'cbwd', 'Iws', 'Is', 'Ir'],\n",
              "      dtype='object')"
            ]
          },
          "metadata": {
            "tags": []
          },
          "execution_count": 375
        }
      ]
    },
    {
      "cell_type": "markdown",
      "metadata": {
        "id": "73VmuCWBhuNc",
        "colab_type": "text"
      },
      "source": [
        "**replace the oraginal data by encode data**"
      ]
    },
    {
      "cell_type": "code",
      "metadata": {
        "id": "9iR3LCbULu0N",
        "colab_type": "code",
        "colab": {}
      },
      "source": [
        "df = df.assign(cbwd= df_encoded)\n"
      ],
      "execution_count": 0,
      "outputs": []
    },
    {
      "cell_type": "code",
      "metadata": {
        "id": "rae34jCOMGEU",
        "colab_type": "code",
        "outputId": "55160e14-10d4-482b-b218-ca7a2039a568",
        "colab": {
          "base_uri": "https://localhost:8080/",
          "height": 204
        }
      },
      "source": [
        "df.head()"
      ],
      "execution_count": 0,
      "outputs": [
        {
          "output_type": "execute_result",
          "data": {
            "text/html": [
              "<div>\n",
              "<style scoped>\n",
              "    .dataframe tbody tr th:only-of-type {\n",
              "        vertical-align: middle;\n",
              "    }\n",
              "\n",
              "    .dataframe tbody tr th {\n",
              "        vertical-align: top;\n",
              "    }\n",
              "\n",
              "    .dataframe thead th {\n",
              "        text-align: right;\n",
              "    }\n",
              "</style>\n",
              "<table border=\"1\" class=\"dataframe\">\n",
              "  <thead>\n",
              "    <tr style=\"text-align: right;\">\n",
              "      <th></th>\n",
              "      <th>No</th>\n",
              "      <th>year</th>\n",
              "      <th>month</th>\n",
              "      <th>day</th>\n",
              "      <th>hour</th>\n",
              "      <th>pm2.5</th>\n",
              "      <th>DEWP</th>\n",
              "      <th>TEMP</th>\n",
              "      <th>PRES</th>\n",
              "      <th>cbwd</th>\n",
              "      <th>Iws</th>\n",
              "      <th>Is</th>\n",
              "      <th>Ir</th>\n",
              "    </tr>\n",
              "  </thead>\n",
              "  <tbody>\n",
              "    <tr>\n",
              "      <th>24</th>\n",
              "      <td>25</td>\n",
              "      <td>2010</td>\n",
              "      <td>1</td>\n",
              "      <td>2</td>\n",
              "      <td>0</td>\n",
              "      <td>129.0</td>\n",
              "      <td>-16</td>\n",
              "      <td>-4.0</td>\n",
              "      <td>1020.0</td>\n",
              "      <td>2.0</td>\n",
              "      <td>1.79</td>\n",
              "      <td>0</td>\n",
              "      <td>0</td>\n",
              "    </tr>\n",
              "    <tr>\n",
              "      <th>25</th>\n",
              "      <td>26</td>\n",
              "      <td>2010</td>\n",
              "      <td>1</td>\n",
              "      <td>2</td>\n",
              "      <td>1</td>\n",
              "      <td>148.0</td>\n",
              "      <td>-15</td>\n",
              "      <td>-4.0</td>\n",
              "      <td>1020.0</td>\n",
              "      <td>2.0</td>\n",
              "      <td>2.68</td>\n",
              "      <td>0</td>\n",
              "      <td>0</td>\n",
              "    </tr>\n",
              "    <tr>\n",
              "      <th>26</th>\n",
              "      <td>27</td>\n",
              "      <td>2010</td>\n",
              "      <td>1</td>\n",
              "      <td>2</td>\n",
              "      <td>2</td>\n",
              "      <td>159.0</td>\n",
              "      <td>-11</td>\n",
              "      <td>-5.0</td>\n",
              "      <td>1021.0</td>\n",
              "      <td>2.0</td>\n",
              "      <td>3.57</td>\n",
              "      <td>0</td>\n",
              "      <td>0</td>\n",
              "    </tr>\n",
              "    <tr>\n",
              "      <th>27</th>\n",
              "      <td>28</td>\n",
              "      <td>2010</td>\n",
              "      <td>1</td>\n",
              "      <td>2</td>\n",
              "      <td>3</td>\n",
              "      <td>181.0</td>\n",
              "      <td>-7</td>\n",
              "      <td>-5.0</td>\n",
              "      <td>1022.0</td>\n",
              "      <td>2.0</td>\n",
              "      <td>5.36</td>\n",
              "      <td>1</td>\n",
              "      <td>0</td>\n",
              "    </tr>\n",
              "    <tr>\n",
              "      <th>28</th>\n",
              "      <td>29</td>\n",
              "      <td>2010</td>\n",
              "      <td>1</td>\n",
              "      <td>2</td>\n",
              "      <td>4</td>\n",
              "      <td>138.0</td>\n",
              "      <td>-7</td>\n",
              "      <td>-5.0</td>\n",
              "      <td>1022.0</td>\n",
              "      <td>2.0</td>\n",
              "      <td>6.25</td>\n",
              "      <td>2</td>\n",
              "      <td>0</td>\n",
              "    </tr>\n",
              "  </tbody>\n",
              "</table>\n",
              "</div>"
            ],
            "text/plain": [
              "    No  year  month  day  hour  pm2.5  DEWP  TEMP    PRES  cbwd   Iws  Is  Ir\n",
              "24  25  2010      1    2     0  129.0   -16  -4.0  1020.0   2.0  1.79   0   0\n",
              "25  26  2010      1    2     1  148.0   -15  -4.0  1020.0   2.0  2.68   0   0\n",
              "26  27  2010      1    2     2  159.0   -11  -5.0  1021.0   2.0  3.57   0   0\n",
              "27  28  2010      1    2     3  181.0    -7  -5.0  1022.0   2.0  5.36   1   0\n",
              "28  29  2010      1    2     4  138.0    -7  -5.0  1022.0   2.0  6.25   2   0"
            ]
          },
          "metadata": {
            "tags": []
          },
          "execution_count": 377
        }
      ]
    },
    {
      "cell_type": "code",
      "metadata": {
        "id": "o5gCvZN4O9av",
        "colab_type": "code",
        "colab": {}
      },
      "source": [
        "#median = df[\"pm2.5\"].median()\n",
        "#df[\"pm2.5\"].fillna(median, inplace=True) \n"
      ],
      "execution_count": 0,
      "outputs": []
    },
    {
      "cell_type": "code",
      "metadata": {
        "id": "P9OAmxe_QQYp",
        "colab_type": "code",
        "outputId": "aa55e44b-8dcc-4c6e-b553-bd355ddd2d1c",
        "colab": {
          "base_uri": "https://localhost:8080/",
          "height": 204
        }
      },
      "source": [
        "#df.head()"
      ],
      "execution_count": 0,
      "outputs": [
        {
          "output_type": "execute_result",
          "data": {
            "text/html": [
              "<div>\n",
              "<style scoped>\n",
              "    .dataframe tbody tr th:only-of-type {\n",
              "        vertical-align: middle;\n",
              "    }\n",
              "\n",
              "    .dataframe tbody tr th {\n",
              "        vertical-align: top;\n",
              "    }\n",
              "\n",
              "    .dataframe thead th {\n",
              "        text-align: right;\n",
              "    }\n",
              "</style>\n",
              "<table border=\"1\" class=\"dataframe\">\n",
              "  <thead>\n",
              "    <tr style=\"text-align: right;\">\n",
              "      <th></th>\n",
              "      <th>No</th>\n",
              "      <th>year</th>\n",
              "      <th>month</th>\n",
              "      <th>day</th>\n",
              "      <th>hour</th>\n",
              "      <th>pm2.5</th>\n",
              "      <th>DEWP</th>\n",
              "      <th>TEMP</th>\n",
              "      <th>PRES</th>\n",
              "      <th>cbwd</th>\n",
              "      <th>Iws</th>\n",
              "      <th>Is</th>\n",
              "      <th>Ir</th>\n",
              "    </tr>\n",
              "  </thead>\n",
              "  <tbody>\n",
              "    <tr>\n",
              "      <th>0</th>\n",
              "      <td>1</td>\n",
              "      <td>2010</td>\n",
              "      <td>1</td>\n",
              "      <td>1</td>\n",
              "      <td>0</td>\n",
              "      <td>72.0</td>\n",
              "      <td>-21</td>\n",
              "      <td>-11.0</td>\n",
              "      <td>1021.0</td>\n",
              "      <td>1.0</td>\n",
              "      <td>1.79</td>\n",
              "      <td>0</td>\n",
              "      <td>0</td>\n",
              "    </tr>\n",
              "    <tr>\n",
              "      <th>1</th>\n",
              "      <td>2</td>\n",
              "      <td>2010</td>\n",
              "      <td>1</td>\n",
              "      <td>1</td>\n",
              "      <td>1</td>\n",
              "      <td>72.0</td>\n",
              "      <td>-21</td>\n",
              "      <td>-12.0</td>\n",
              "      <td>1020.0</td>\n",
              "      <td>1.0</td>\n",
              "      <td>4.92</td>\n",
              "      <td>0</td>\n",
              "      <td>0</td>\n",
              "    </tr>\n",
              "    <tr>\n",
              "      <th>2</th>\n",
              "      <td>3</td>\n",
              "      <td>2010</td>\n",
              "      <td>1</td>\n",
              "      <td>1</td>\n",
              "      <td>2</td>\n",
              "      <td>72.0</td>\n",
              "      <td>-21</td>\n",
              "      <td>-11.0</td>\n",
              "      <td>1019.0</td>\n",
              "      <td>1.0</td>\n",
              "      <td>6.71</td>\n",
              "      <td>0</td>\n",
              "      <td>0</td>\n",
              "    </tr>\n",
              "    <tr>\n",
              "      <th>3</th>\n",
              "      <td>4</td>\n",
              "      <td>2010</td>\n",
              "      <td>1</td>\n",
              "      <td>1</td>\n",
              "      <td>3</td>\n",
              "      <td>72.0</td>\n",
              "      <td>-21</td>\n",
              "      <td>-14.0</td>\n",
              "      <td>1019.0</td>\n",
              "      <td>1.0</td>\n",
              "      <td>9.84</td>\n",
              "      <td>0</td>\n",
              "      <td>0</td>\n",
              "    </tr>\n",
              "    <tr>\n",
              "      <th>4</th>\n",
              "      <td>5</td>\n",
              "      <td>2010</td>\n",
              "      <td>1</td>\n",
              "      <td>1</td>\n",
              "      <td>4</td>\n",
              "      <td>72.0</td>\n",
              "      <td>-20</td>\n",
              "      <td>-12.0</td>\n",
              "      <td>1018.0</td>\n",
              "      <td>1.0</td>\n",
              "      <td>12.97</td>\n",
              "      <td>0</td>\n",
              "      <td>0</td>\n",
              "    </tr>\n",
              "  </tbody>\n",
              "</table>\n",
              "</div>"
            ],
            "text/plain": [
              "   No  year  month  day  hour  pm2.5  DEWP  TEMP    PRES  cbwd    Iws  Is  Ir\n",
              "0   1  2010      1    1     0   72.0   -21 -11.0  1021.0   1.0   1.79   0   0\n",
              "1   2  2010      1    1     1   72.0   -21 -12.0  1020.0   1.0   4.92   0   0\n",
              "2   3  2010      1    1     2   72.0   -21 -11.0  1019.0   1.0   6.71   0   0\n",
              "3   4  2010      1    1     3   72.0   -21 -14.0  1019.0   1.0   9.84   0   0\n",
              "4   5  2010      1    1     4   72.0   -20 -12.0  1018.0   1.0  12.97   0   0"
            ]
          },
          "metadata": {
            "tags": []
          },
          "execution_count": 18
        }
      ]
    },
    {
      "cell_type": "markdown",
      "metadata": {
        "id": "9E2PoJggWfHj",
        "colab_type": "text"
      },
      "source": [
        "**Now we are ready to using linear as well as non-linear regression on the dataset, at the same time we can do normalization and scaling.**"
      ]
    },
    {
      "cell_type": "markdown",
      "metadata": {
        "id": "MlGJ_LGpibVd",
        "colab_type": "text"
      },
      "source": [
        "**2.Perform linear as well as non-linear regression on the dataset**"
      ]
    },
    {
      "cell_type": "markdown",
      "metadata": {
        "id": "IQ8BeQfyPIO6",
        "colab_type": "text"
      },
      "source": [
        "**3.Evaluate the performance of  each model using k-fold cross validation**"
      ]
    },
    {
      "cell_type": "markdown",
      "metadata": {
        "id": "cAPouoVqWtMD",
        "colab_type": "text"
      },
      "source": [
        "# **linear regression**"
      ]
    },
    {
      "cell_type": "markdown",
      "metadata": {
        "id": "Ivdmp1Nyo0g6",
        "colab_type": "text"
      },
      "source": [
        "More generally, a linear model makes a prediction by simply computing a weighted sum of the input features, plus a constant call the bias term. the most common performance measure of a regression model is the RMSE.\n",
        "\n",
        "In this part, uesed linear regression(by using linear model,  also lasso and ridge regression) to measure these data.\n",
        "\n",
        "Firstly, use corr_matrix to find the reltation between pm2.5 with other column.\n",
        "and drop off the irrelevant data.\n",
        "\n",
        "Sencondly, use the linear model to get the MSE, during this time we find if we scaling the data, it will improve the result. Then we can plot the model's predictions.\n",
        "\n",
        "Thirdly, using k-fold to get the RMSE."
      ]
    },
    {
      "cell_type": "code",
      "metadata": {
        "id": "gHX0SeqHb1PN",
        "colab_type": "code",
        "colab": {}
      },
      "source": [
        "corr_matrix = df.corr()"
      ],
      "execution_count": 0,
      "outputs": []
    },
    {
      "cell_type": "code",
      "metadata": {
        "id": "lGksjo07b9mk",
        "colab_type": "code",
        "outputId": "75b386db-f166-4cff-fcd4-f679a3589c66",
        "colab": {
          "base_uri": "https://localhost:8080/",
          "height": 255
        }
      },
      "source": [
        "corr_matrix[\"pm2.5\"].sort_values(ascending=False)"
      ],
      "execution_count": 0,
      "outputs": [
        {
          "output_type": "execute_result",
          "data": {
            "text/plain": [
              "pm2.5    1.000000\n",
              "cbwd     0.197150\n",
              "DEWP     0.171423\n",
              "day      0.082788\n",
              "Is       0.019266\n",
              "year    -0.014690\n",
              "No      -0.017706\n",
              "hour    -0.023116\n",
              "month   -0.024069\n",
              "PRES    -0.047282\n",
              "Ir      -0.051369\n",
              "TEMP    -0.090534\n",
              "Iws     -0.247784\n",
              "Name: pm2.5, dtype: float64"
            ]
          },
          "metadata": {
            "tags": []
          },
          "execution_count": 379
        }
      ]
    },
    {
      "cell_type": "code",
      "metadata": {
        "id": "WTLO79afWsfi",
        "colab_type": "code",
        "outputId": "0be061bf-8800-4a0b-e56e-74f0d44548b2",
        "colab": {
          "base_uri": "https://localhost:8080/",
          "height": 34
        }
      },
      "source": [
        "y = df['pm2.5']\n",
        "X = df.drop(columns=['pm2.5','day','year','No','hour','month'])\n",
        "X_train,X_test,y_train,y_test = train_test_split(X, y, test_size=0.3,random_state=42)\n",
        "\n",
        "print(X_train.shape, y_train.shape)\n"
      ],
      "execution_count": 0,
      "outputs": [
        {
          "output_type": "stream",
          "text": [
            "(29229, 7) (29229,)\n"
          ],
          "name": "stdout"
        }
      ]
    },
    {
      "cell_type": "code",
      "metadata": {
        "id": "Dr5Au7zf_qrs",
        "colab_type": "code",
        "outputId": "c5130191-c65e-4e77-f7a5-9bbe00505325",
        "colab": {
          "base_uri": "https://localhost:8080/",
          "height": 34
        }
      },
      "source": [
        "linear_model.LinearRegression().get_params()"
      ],
      "execution_count": 0,
      "outputs": [
        {
          "output_type": "execute_result",
          "data": {
            "text/plain": [
              "{'copy_X': True, 'fit_intercept': True, 'n_jobs': None, 'normalize': False}"
            ]
          },
          "metadata": {
            "tags": []
          },
          "execution_count": 381
        }
      ]
    },
    {
      "cell_type": "code",
      "metadata": {
        "id": "1NdxfdFmAFqL",
        "colab_type": "code",
        "outputId": "df12fb5a-5af6-4b3a-876b-93af898c0da8",
        "colab": {
          "base_uri": "https://localhost:8080/",
          "height": 34
        }
      },
      "source": [
        "linear=linear_model.LinearRegression()\n",
        "linear.fit(X_train,y_train)\n",
        "linear.score(X_train,y_train)\n",
        "linear.score(X_test,y_test)\n"
      ],
      "execution_count": 0,
      "outputs": [
        {
          "output_type": "execute_result",
          "data": {
            "text/plain": [
              "0.24996723763427142"
            ]
          },
          "metadata": {
            "tags": []
          },
          "execution_count": 382
        }
      ]
    },
    {
      "cell_type": "code",
      "metadata": {
        "id": "QA0J4wqdARh7",
        "colab_type": "code",
        "outputId": "cc528dd4-eafd-4956-e92b-b922708e8a46",
        "colab": {
          "base_uri": "https://localhost:8080/",
          "height": 34
        }
      },
      "source": [
        "linear.coef_\n",
        "linear.intercept_"
      ],
      "execution_count": 0,
      "outputs": [
        {
          "output_type": "execute_result",
          "data": {
            "text/plain": [
              "1622.894970177442"
            ]
          },
          "metadata": {
            "tags": []
          },
          "execution_count": 383
        }
      ]
    },
    {
      "cell_type": "markdown",
      "metadata": {
        "id": "vJ41IfVBDAzp",
        "colab_type": "text"
      },
      "source": [
        "**Feature scaling is performed before learning to ensure that these features have similar scales, which will help the gradient descent algorithm to converge faster.**"
      ]
    },
    {
      "cell_type": "code",
      "metadata": {
        "id": "LWyoPsC_jsdR",
        "colab_type": "code",
        "outputId": "e64f346d-2937-401f-ab82-1dae6a9c212f",
        "colab": {
          "base_uri": "https://localhost:8080/",
          "height": 34
        }
      },
      "source": [
        "# data scaling, improve the speed to dealing with the data\n",
        "\n",
        "ss = StandardScaler()\n",
        "ss.fit(X_train)\n",
        "X_train = ss.transform(X_train)\n",
        " \n",
        "ss.fit(X_test)\n",
        "\n",
        "X_test = ss.transform(X_test)\n",
        "\n",
        "linear.fit(X_train,y_train)\n",
        "linear.score(X_train,y_train)\n",
        "linear.score(X_test,y_test)"
      ],
      "execution_count": 0,
      "outputs": [
        {
          "output_type": "execute_result",
          "data": {
            "text/plain": [
              "0.25002517933931534"
            ]
          },
          "metadata": {
            "tags": []
          },
          "execution_count": 384
        }
      ]
    },
    {
      "cell_type": "code",
      "metadata": {
        "id": "4X7uxGUVBVWw",
        "colab_type": "code",
        "colab": {}
      },
      "source": [
        "y_hat=linear.predict(X_train)\n",
        "y_pre=linear.predict(X_test)\n",
        "fmse=(y_pre-y_test).T.dot(y_pre-y_test)/len(y_test)\n",
        "mse=(y_hat-y_train).T.dot(y_hat-y_train)/len(y_train)\n"
      ],
      "execution_count": 0,
      "outputs": []
    },
    {
      "cell_type": "code",
      "metadata": {
        "id": "NBB_YIZ_Bdcn",
        "colab_type": "code",
        "outputId": "041c55d3-978b-4ff2-bfe1-1c8bb0da4d10",
        "colab": {
          "base_uri": "https://localhost:8080/",
          "height": 34
        }
      },
      "source": [
        "fmse"
      ],
      "execution_count": 0,
      "outputs": [
        {
          "output_type": "execute_result",
          "data": {
            "text/plain": [
              "6410.867356985548"
            ]
          },
          "metadata": {
            "tags": []
          },
          "execution_count": 386
        }
      ]
    },
    {
      "cell_type": "markdown",
      "metadata": {
        "id": "Uh6tsmAAFQqE",
        "colab_type": "text"
      },
      "source": [
        "The mean square error in mathematical statistics refers to the expected value of the square of the difference between the parameter estimate and the parameter value, and is recorded as MSE. MSE is a more convenient method to measure the \"average error\". MSE can evaluate the degree of change in data. The smaller the value of MSE, the better the accuracy of the prediction model in describing the experimental data."
      ]
    },
    {
      "cell_type": "code",
      "metadata": {
        "id": "z--dxgeuBfSq",
        "colab_type": "code",
        "outputId": "efd7bc96-b409-4688-da6c-01b19f8b4e60",
        "colab": {
          "base_uri": "https://localhost:8080/",
          "height": 34
        }
      },
      "source": [
        "mse"
      ],
      "execution_count": 0,
      "outputs": [
        {
          "output_type": "execute_result",
          "data": {
            "text/plain": [
              "6312.165236504724"
            ]
          },
          "metadata": {
            "tags": []
          },
          "execution_count": 387
        }
      ]
    },
    {
      "cell_type": "code",
      "metadata": {
        "id": "GlIuUfdrBizX",
        "colab_type": "code",
        "outputId": "57b83138-f21a-4ca2-bdcb-3d4317535a97",
        "colab": {
          "base_uri": "https://localhost:8080/",
          "height": 517
        }
      },
      "source": [
        "plt.rcParams['savefig.dpi']=300 \n",
        "plt.rcParams['figure.dpi'] = 100 \n",
        "plt.rcParams['figure.figsize']=(8.0,6.0)\n",
        "plt.figure()\n",
        "plt.scatter(list(range(len(y_pre))),y_test,label='real',color='b',s=1)\n",
        "plt.plot(list(range(len(y_pre))),y_pre,label='predict',color='r')\n",
        "plt.legend()\n",
        "plt.show()\n"
      ],
      "execution_count": 0,
      "outputs": [
        {
          "output_type": "display_data",
          "data": {
            "image/png": "[encoded data removed]",
            "text/plain": [
              "<Figure size 800x600 with 1 Axes>"
            ]
          },
          "metadata": {
            "tags": []
          }
        }
      ]
    },
    {
      "cell_type": "markdown",
      "metadata": {
        "id": "DEPfLEigpAE6",
        "colab_type": "text"
      },
      "source": [
        "**k-fold cross validation for linear regression**\n",
        "\n",
        "firstly, using k-fold to get mse\n",
        "\n",
        "secondly, fixing the sign of MSE scores\n",
        "\n",
        "thirdly,convert from MSE to RMSE\n",
        "\n",
        "calculate the average RMSE"
      ]
    },
    {
      "cell_type": "code",
      "metadata": {
        "id": "C_BJ-OPyonT-",
        "colab_type": "code",
        "outputId": "12d7e290-6beb-4984-c54a-d0f3e3be4cbe",
        "colab": {
          "base_uri": "https://localhost:8080/",
          "height": 68
        }
      },
      "source": [
        "cv = KFold(n_splits=10, shuffle=True, random_state=1)\n",
        "scores = cross_val_score(linear, X_test, y_test, scoring='neg_mean_squared_error', cv=cv)\n",
        "scores"
      ],
      "execution_count": 0,
      "outputs": [
        {
          "output_type": "execute_result",
          "data": {
            "text/plain": [
              "array([-6610.84765487, -6263.31373388, -6815.48652666, -6894.99137959,\n",
              "       -5698.09040288, -6518.5891993 , -6489.59418911, -6699.22204122,\n",
              "       -5560.58802816, -6577.51346584])"
            ]
          },
          "metadata": {
            "tags": []
          },
          "execution_count": 266
        }
      ]
    },
    {
      "cell_type": "code",
      "metadata": {
        "id": "v0RfrOAQooT6",
        "colab_type": "code",
        "outputId": "63b28159-2d84-4215-aed6-ba589bb264e5",
        "colab": {
          "base_uri": "https://localhost:8080/",
          "height": 51
        }
      },
      "source": [
        "mse_scores = -scores\n",
        "print(mse_scores)"
      ],
      "execution_count": 0,
      "outputs": [
        {
          "output_type": "stream",
          "text": [
            "[6610.84765487 6263.31373388 6815.48652666 6894.99137959 5698.09040288\n",
            " 6518.5891993  6489.59418911 6699.22204122 5560.58802816 6577.51346584]\n"
          ],
          "name": "stdout"
        }
      ]
    },
    {
      "cell_type": "code",
      "metadata": {
        "id": "PdOQjKMmotbw",
        "colab_type": "code",
        "outputId": "e49cc6c1-0991-411d-d8c8-964296a02b1d",
        "colab": {
          "base_uri": "https://localhost:8080/",
          "height": 68
        }
      },
      "source": [
        "rmse_scores = np.sqrt(mse_scores)\n",
        "print(rmse_scores)\n",
        "print(rmse_scores.mean())"
      ],
      "execution_count": 0,
      "outputs": [
        {
          "output_type": "stream",
          "text": [
            "[81.30711934 79.14110016 82.55595997 83.0360848  75.48569668 80.7377805\n",
            " 80.55801753 81.84877544 74.56935046 81.10187091]\n",
            "80.03417557913403\n"
          ],
          "name": "stdout"
        }
      ]
    },
    {
      "cell_type": "markdown",
      "metadata": {
        "id": "T3mmWwYTLDzT",
        "colab_type": "text"
      },
      "source": [
        "**Ridge regression**"
      ]
    },
    {
      "cell_type": "code",
      "metadata": {
        "id": "noCO4WamQwHZ",
        "colab_type": "code",
        "outputId": "6bd8b263-2768-4279-a643-c4eb1bb988a2",
        "colab": {
          "base_uri": "https://localhost:8080/",
          "height": 34
        }
      },
      "source": [
        "from sklearn.linear_model import Ridge,RidgeCV\n",
        "\n",
        "lambdas = np.logspace(-5,2,200)\n",
        "ridge_cv = RidgeCV(alphas=lambdas,normalize=True,scoring=\"neg_mean_squared_error\",cv=10)\n",
        "ridge_cv.fit(X_train,y_train)\n",
        "ridge_cv.alpha_\n",
        "\n",
        "\n",
        "\n",
        "model=Ridge(alpha=ridge_cv.alpha_,normalize=True)\n",
        "Ridge_model=model.fit(X_train,y_train)\n",
        "ridge_pre = model.predict(X_test)\n",
        "\n",
        "mean_squared_error(y_test,ridge_pre)\n",
        "\n",
        "\n",
        "r2_score(y_test,ridge_pre)\n"
      ],
      "execution_count": 0,
      "outputs": [
        {
          "output_type": "execute_result",
          "data": {
            "text/plain": [
              "0.250024796466054"
            ]
          },
          "metadata": {
            "tags": []
          },
          "execution_count": 417
        }
      ]
    },
    {
      "cell_type": "markdown",
      "metadata": {
        "id": "SHoDjkLrLOC_",
        "colab_type": "text"
      },
      "source": [
        "**K-fold for ridge regression**\n",
        "\n",
        "\n",
        "firstly, using k-fold to get mse\n",
        "\n",
        "secondly, fixing the sign of MSE scores\n",
        "\n",
        "thirdly,convert from MSE to RMSE\n",
        "\n",
        "calculate the average RMSE"
      ]
    },
    {
      "cell_type": "code",
      "metadata": {
        "id": "K0pRgHplozHq",
        "colab_type": "code",
        "outputId": "46edea1c-4136-4fc8-90a6-b61ca7147e27",
        "colab": {
          "base_uri": "https://localhost:8080/",
          "height": 68
        }
      },
      "source": [
        "cv = KFold(n_splits=10, shuffle=True, random_state=1)\n",
        "scores = cross_val_score(ridge_cv_model, X_test, y_test, scoring='neg_mean_squared_error', cv=cv)\n",
        "scores"
      ],
      "execution_count": 0,
      "outputs": [
        {
          "output_type": "execute_result",
          "data": {
            "text/plain": [
              "array([-6611.10750237, -6263.32926832, -6815.60522653, -6895.08429177,\n",
              "       -5697.96711527, -6518.38804028, -6489.57301114, -6699.35017439,\n",
              "       -5560.41130737, -6577.50940247])"
            ]
          },
          "metadata": {
            "tags": []
          },
          "execution_count": 329
        }
      ]
    },
    {
      "cell_type": "code",
      "metadata": {
        "id": "vBy9AzUfo3tF",
        "colab_type": "code",
        "outputId": "c08da0e0-7ad9-4762-c78f-e83cca318657",
        "colab": {
          "base_uri": "https://localhost:8080/",
          "height": 51
        }
      },
      "source": [
        "mse_scores = -scores\n",
        "print(mse_scores)"
      ],
      "execution_count": 0,
      "outputs": [
        {
          "output_type": "stream",
          "text": [
            "[6611.10750237 6263.32926832 6815.60522653 6895.08429177 5697.96711527\n",
            " 6518.38804028 6489.57301114 6699.35017439 5560.41130737 6577.50940247]\n"
          ],
          "name": "stdout"
        }
      ]
    },
    {
      "cell_type": "code",
      "metadata": {
        "id": "gaBmOOf7o5qy",
        "colab_type": "code",
        "outputId": "66a46959-5a9e-41ad-e979-d6653c438d3b",
        "colab": {
          "base_uri": "https://localhost:8080/",
          "height": 68
        }
      },
      "source": [
        "rmse_scores = np.sqrt(mse_scores)\n",
        "print(rmse_scores)\n",
        "print(rmse_scores.mean())"
      ],
      "execution_count": 0,
      "outputs": [
        {
          "output_type": "stream",
          "text": [
            "[81.30871726 79.1411983  82.55667887 83.03664427 75.48488004 80.73653473\n",
            " 80.55788609 81.84955818 74.56816551 81.10184586]\n",
            "80.03421091197548\n"
          ],
          "name": "stdout"
        }
      ]
    },
    {
      "cell_type": "markdown",
      "metadata": {
        "id": "Aq256qfqLb2U",
        "colab_type": "text"
      },
      "source": [
        "**lasso regression**"
      ]
    },
    {
      "cell_type": "code",
      "metadata": {
        "id": "Lqabu5IaHji5",
        "colab_type": "code",
        "outputId": "2aa68841-d8cf-4c85-cade-35b46af9b0f0",
        "colab": {
          "base_uri": "https://localhost:8080/",
          "height": 34
        }
      },
      "source": [
        "from sklearn.linear_model import Lasso,LassoCV\n",
        "\n",
        "\n",
        "Lambdas=np.logspace(-10,2,2000)\n",
        "lasso_cv=LassoCV(alphas=Lambdas,normalize=True,cv=10,max_iter=10000)\n",
        "lasso_cv.fit(X_train,y_train)\n",
        "lasso_cv.alpha_\n",
        "\n",
        "\n",
        "lasso=Lasso(alpha=lasso_cv.alpha_,normalize=True,max_iter=10000)\n",
        "lasso_model=lasso.fit(X_train,y_train)\n",
        "lasso_pre=lasso.predict(X_test)\n",
        "mean_squared_error(y_test,lasso_pre)\n",
        "\n",
        "\n",
        "r2_score(y_test,lasso_pre)\n"
      ],
      "execution_count": 0,
      "outputs": [
        {
          "output_type": "execute_result",
          "data": {
            "text/plain": [
              "0.25002265063860507"
            ]
          },
          "metadata": {
            "tags": []
          },
          "execution_count": 420
        }
      ]
    },
    {
      "cell_type": "markdown",
      "metadata": {
        "id": "c5nq239lLwyZ",
        "colab_type": "text"
      },
      "source": [
        "**K-fold for lasso regression**\n",
        "\n",
        "\n",
        "firstly, using k-fold to get mse\n",
        "\n",
        "secondly, fixing the sign of MSE scores\n",
        "\n",
        "thirdly,convert from MSE to RMSE\n",
        "\n",
        "calculate the average RMSE"
      ]
    },
    {
      "cell_type": "code",
      "metadata": {
        "id": "upg7yy2HLml-",
        "colab_type": "code",
        "outputId": "ee5f1895-2287-470d-8722-be2dcbb35e2a",
        "colab": {
          "base_uri": "https://localhost:8080/",
          "height": 68
        }
      },
      "source": [
        "cv = KFold(n_splits=10, shuffle=True, random_state=1)\n",
        "scores = cross_val_score(ridge_cv_model, X_test, y_test, scoring='neg_mean_squared_error', cv=cv)\n",
        "scores"
      ],
      "execution_count": 0,
      "outputs": [
        {
          "output_type": "execute_result",
          "data": {
            "text/plain": [
              "array([-6611.10750237, -6263.32926832, -6815.60522653, -6895.08429177,\n",
              "       -5697.96711527, -6518.38804028, -6489.57301114, -6699.35017439,\n",
              "       -5560.41130737, -6577.50940247])"
            ]
          },
          "metadata": {
            "tags": []
          },
          "execution_count": 438
        }
      ]
    },
    {
      "cell_type": "code",
      "metadata": {
        "id": "NkdROZaZLpKc",
        "colab_type": "code",
        "outputId": "5e17cf45-738a-49b3-cd0d-76e258529654",
        "colab": {
          "base_uri": "https://localhost:8080/",
          "height": 51
        }
      },
      "source": [
        "mse_scores = -scores\n",
        "print(mse_scores)"
      ],
      "execution_count": 0,
      "outputs": [
        {
          "output_type": "stream",
          "text": [
            "[6611.10750237 6263.32926832 6815.60522653 6895.08429177 5697.96711527\n",
            " 6518.38804028 6489.57301114 6699.35017439 5560.41130737 6577.50940247]\n"
          ],
          "name": "stdout"
        }
      ]
    },
    {
      "cell_type": "code",
      "metadata": {
        "id": "bf4jOrDYLrZQ",
        "colab_type": "code",
        "outputId": "21da8802-be75-4d29-c725-398de9796416",
        "colab": {
          "base_uri": "https://localhost:8080/",
          "height": 68
        }
      },
      "source": [
        "rmse_scores = np.sqrt(mse_scores)\n",
        "print(rmse_scores)\n",
        "print(rmse_scores.mean())"
      ],
      "execution_count": 0,
      "outputs": [
        {
          "output_type": "stream",
          "text": [
            "[81.30871726 79.1411983  82.55667887 83.03664427 75.48488004 80.73653473\n",
            " 80.55788609 81.84955818 74.56816551 81.10184586]\n",
            "80.03421091197548\n"
          ],
          "name": "stdout"
        }
      ]
    },
    {
      "cell_type": "markdown",
      "metadata": {
        "id": "ldQVeHpyo8j5",
        "colab_type": "text"
      },
      "source": [
        "# **non-linear regression**\n",
        "\n",
        "Polynomial regression"
      ]
    },
    {
      "cell_type": "markdown",
      "metadata": {
        "id": "yC-GQ7VXNMXT",
        "colab_type": "text"
      },
      "source": [
        "firstly, lets plot the test of pm data picture, and observe whether we can use polynomial regression or not.\n",
        "\n",
        "secondly, let's use Scikit-Learns's Poly nomialFeatures class to transform our training data, adding the squre of each features in the training set as new features. \n",
        "\n",
        "thridly, get the MSE for poly regression, and then plot the prediction pictures."
      ]
    },
    {
      "cell_type": "code",
      "metadata": {
        "id": "47qjYziEfvvA",
        "colab_type": "code",
        "outputId": "276d90c7-e307-49c9-a1d3-0438e4250afc",
        "colab": {
          "base_uri": "https://localhost:8080/",
          "height": 554
        }
      },
      "source": [
        "plt.plot(list(range(len(y_test))), y_test, \"b.\")\n",
        "plt.xlabel(\"$x_1$\", fontsize=18)\n",
        "plt.ylabel(\"$y$\", rotation=0, fontsize=18)\n",
        "plt.axis([0, 12000, 0, 1000])\n",
        "\n",
        "plt.show()"
      ],
      "execution_count": 0,
      "outputs": [
        {
          "output_type": "display_data",
          "data": {
            "image/png": "[encoded data removed]",
            "text/plain": [
              "<Figure size 800x600 with 1 Axes>"
            ]
          },
          "metadata": {
            "tags": []
          }
        }
      ]
    },
    {
      "cell_type": "code",
      "metadata": {
        "id": "j5UbvoPBFhR7",
        "colab_type": "code",
        "outputId": "ef464e36-e1cb-4009-a9fd-4a00013211a6",
        "colab": {
          "base_uri": "https://localhost:8080/",
          "height": 51
        }
      },
      "source": [
        "poly_features = PolynomialFeatures(degree=2,include_bias=False)\n",
        "X_poly = poly_features.fit_transform(X_train)\n",
        "X_train[0]"
      ],
      "execution_count": 0,
      "outputs": [
        {
          "output_type": "execute_result",
          "data": {
            "text/plain": [
              "array([-1.08772482, -1.50844197,  1.12083643, -0.71025627, -0.46336544,\n",
              "       -0.07191939, -0.13587022])"
            ]
          },
          "metadata": {
            "tags": []
          },
          "execution_count": 424
        }
      ]
    },
    {
      "cell_type": "markdown",
      "metadata": {
        "id": "A-G1WbnaNxpi",
        "colab_type": "text"
      },
      "source": [
        "**X_poly now contains the original feature of X plus the squre of this features. now we can fit a LinearRegression model to this extended training data.**"
      ]
    },
    {
      "cell_type": "code",
      "metadata": {
        "id": "suRvKoKQFtWk",
        "colab_type": "code",
        "outputId": "925da50e-bccd-4ddf-d626-02d8169b550b",
        "colab": {
          "base_uri": "https://localhost:8080/",
          "height": 136
        }
      },
      "source": [
        "X_poly[0]"
      ],
      "execution_count": 0,
      "outputs": [
        {
          "output_type": "execute_result",
          "data": {
            "text/plain": [
              "array([-1.08772482, -1.50844197,  1.12083643, -0.71025627, -0.46336544,\n",
              "       -0.07191939, -0.13587022,  1.18314529,  1.64076978, -1.21916161,\n",
              "        0.77256338,  0.5040141 ,  0.07822851,  0.14778942,  2.27539718,\n",
              "       -1.69071672,  1.07138037,  0.69895988,  0.10848623,  0.20495235,\n",
              "        1.25627431, -0.7960811 , -0.51935687, -0.08060987, -0.1522883 ,\n",
              "        0.50446397,  0.32910821,  0.0510812 ,  0.09650268,  0.21470754,\n",
              "        0.03332496,  0.06295757,  0.0051724 ,  0.0097717 ,  0.01846072])"
            ]
          },
          "metadata": {
            "tags": []
          },
          "execution_count": 425
        }
      ]
    },
    {
      "cell_type": "code",
      "metadata": {
        "id": "AnL5vyuHKgCA",
        "colab_type": "code",
        "outputId": "8afc422c-b886-4bbd-e06f-26b9e59f8557",
        "colab": {
          "base_uri": "https://localhost:8080/",
          "height": 187
        }
      },
      "source": [
        "lin_reg = LinearRegression(normalize=True)\n",
        "lin_reg_model=lin_reg.fit(X_poly, y_train)\n",
        "lin_reg.intercept_, lin_reg.coef_"
      ],
      "execution_count": 0,
      "outputs": [
        {
          "output_type": "execute_result",
          "data": {
            "text/plain": [
              "(170344083986.80646,\n",
              " array([ 7.37655030e+01, -8.19454588e+01, -9.85828261e+00,  1.59707199e+01,\n",
              "        -1.39799317e+01,  2.36854177e+12,  1.25372638e+12,  2.09731370e+01,\n",
              "        -5.85033390e+01,  1.31312038e+00,  3.05165119e-01, -1.07018891e+01,\n",
              "         8.72674731e+00, -6.68038778e-01,  3.55854699e+01,  2.74983675e+00,\n",
              "         1.64553080e+00,  1.56808380e+01, -2.72055887e-01,  5.22185396e+00,\n",
              "        -6.95650408e+00,  5.60159503e-01,  6.18420377e+00,  1.11670046e+00,\n",
              "         3.41290725e-01, -1.78573266e+00,  1.69051723e+01, -1.18982525e+00,\n",
              "        -4.83094275e-01,  2.56460303e+00,  8.23079988e-01,  2.11076307e+00,\n",
              "         2.58009085e-01,  1.74323829e+13,  6.21626936e-01]))"
            ]
          },
          "metadata": {
            "tags": []
          },
          "execution_count": 431
        }
      ]
    },
    {
      "cell_type": "code",
      "metadata": {
        "id": "RG_VSMRNKw5_",
        "colab_type": "code",
        "outputId": "18f5502a-b5e0-4af4-a1d0-c86d8a4acba7",
        "colab": {
          "base_uri": "https://localhost:8080/",
          "height": 136
        }
      },
      "source": [
        "X_new_poly = poly_features.fit_transform(X_test)\n",
        "X_new_poly[0]\n"
      ],
      "execution_count": 0,
      "outputs": [
        {
          "output_type": "execute_result",
          "data": {
            "text/plain": [
              "array([-0.61601685, -1.60049051,  0.34903118, -0.70106467, -0.15639275,\n",
              "       -0.06900519, -0.14099373,  0.37947676,  0.98592912, -0.21500909,\n",
              "        0.43186765,  0.09634057,  0.04250836,  0.08685452,  2.56156986,\n",
              "       -0.55862109,  1.12204734,  0.25030512,  0.11044215,  0.22565913,\n",
              "        0.12182276, -0.24469343, -0.05458595, -0.02408496, -0.04921121,\n",
              "        0.49149167,  0.10964143,  0.0483771 ,  0.09884573,  0.02445869,\n",
              "        0.01079191,  0.0220504 ,  0.00476172,  0.0097293 ,  0.01987923])"
            ]
          },
          "metadata": {
            "tags": []
          },
          "execution_count": 432
        }
      ]
    },
    {
      "cell_type": "code",
      "metadata": {
        "id": "VCS_f2LNLI7l",
        "colab_type": "code",
        "outputId": "a056fdfc-b50f-4274-c4b9-4801ba99166e",
        "colab": {
          "base_uri": "https://localhost:8080/",
          "height": 51
        }
      },
      "source": [
        "X_test[0]"
      ],
      "execution_count": 0,
      "outputs": [
        {
          "output_type": "execute_result",
          "data": {
            "text/plain": [
              "array([-0.61601685, -1.60049051,  0.34903118, -0.70106467, -0.15639275,\n",
              "       -0.06900519, -0.14099373])"
            ]
          },
          "metadata": {
            "tags": []
          },
          "execution_count": 284
        }
      ]
    },
    {
      "cell_type": "code",
      "metadata": {
        "id": "_b4lYogU4NDt",
        "colab_type": "code",
        "colab": {}
      },
      "source": [
        "y_hat=lin_reg.predict(X_poly)\n",
        "y_pre=lin_reg.predict(X_new_poly )\n",
        "fmse=(y_pre-y_test).T.dot(y_pre-y_test)/len(y_test)\n",
        "mse=(y_hat-y_train).T.dot(y_hat-y_train)/len(y_train)"
      ],
      "execution_count": 0,
      "outputs": []
    },
    {
      "cell_type": "code",
      "metadata": {
        "id": "SbUsLe984rhn",
        "colab_type": "code",
        "outputId": "1f210ca8-5400-43f0-9e45-9b0f90008e51",
        "colab": {
          "base_uri": "https://localhost:8080/",
          "height": 34
        }
      },
      "source": [
        "fmse"
      ],
      "execution_count": 0,
      "outputs": [
        {
          "output_type": "execute_result",
          "data": {
            "text/plain": [
              "5944.725513152999"
            ]
          },
          "metadata": {
            "tags": []
          },
          "execution_count": 286
        }
      ]
    },
    {
      "cell_type": "code",
      "metadata": {
        "id": "0qMx0IND4tSs",
        "colab_type": "code",
        "outputId": "dc93307a-1488-4ab7-902f-6b5eeb154246",
        "colab": {
          "base_uri": "https://localhost:8080/",
          "height": 34
        }
      },
      "source": [
        "mse"
      ],
      "execution_count": 0,
      "outputs": [
        {
          "output_type": "execute_result",
          "data": {
            "text/plain": [
              "5809.422279976005"
            ]
          },
          "metadata": {
            "tags": []
          },
          "execution_count": 287
        }
      ]
    },
    {
      "cell_type": "code",
      "metadata": {
        "id": "tTDnabS2z5tE",
        "colab_type": "code",
        "outputId": "230de77b-fba9-457e-9af6-cffd74a07980",
        "colab": {
          "base_uri": "https://localhost:8080/",
          "height": 187
        }
      },
      "source": [
        "lin_reg.fit(X_new_poly , y_test)\n",
        "lin_reg.intercept_, lin_reg.coef_"
      ],
      "execution_count": 0,
      "outputs": [
        {
          "output_type": "execute_result",
          "data": {
            "text/plain": [
              "(100.52996001133839,\n",
              " array([ 69.7490905 , -81.48910535, -12.50757097,  17.94120959,\n",
              "        -13.95353778,   0.17148735, -14.83934944,  17.96318033,\n",
              "        -54.27573804,  -2.47986438,   2.007339  , -11.61188841,\n",
              "          7.8816051 ,  -4.97127418,  37.10450729,  11.75900096,\n",
              "          0.84642126,  17.84053741,   1.76890619,   6.97418929,\n",
              "         -3.14953152,   3.40648874,   7.61505773,  -1.87934885,\n",
              "          0.48098899,  -2.41547057,  18.68147937,  -1.22304536,\n",
              "         -0.35071059,   2.56641828,  -0.202123  ,   1.81851741,\n",
              "          0.25787873,   0.99981348,   0.6646511 ]))"
            ]
          },
          "metadata": {
            "tags": []
          },
          "execution_count": 289
        }
      ]
    },
    {
      "cell_type": "code",
      "metadata": {
        "id": "O1GeAvVSgmTl",
        "colab_type": "code",
        "outputId": "8e44075b-7d74-4328-b8cf-2fbdc40b9179",
        "colab": {
          "base_uri": "https://localhost:8080/",
          "height": 571
        }
      },
      "source": [
        "y_pre=lin_reg.predict(X_poly)\n",
        "plt.plot(list(range(len(y_test))), y_test, \"b.\")\n",
        "plt.plot( list(range(len(y_pre))),y_pre, \"r-\", linewidth=2)\n",
        "plt.xlabel(\"$x_1$\", fontsize=18)\n",
        "plt.ylabel(\"$y$\", rotation=0, fontsize=18)\n",
        "plt.legend(loc=\"upper left\", fontsize=14)\n",
        "plt.axis([0, 45, 0, 300])\n",
        "\n",
        "plt.show()"
      ],
      "execution_count": 0,
      "outputs": [
        {
          "output_type": "stream",
          "text": [
            "No handles with labels found to put in legend.\n"
          ],
          "name": "stderr"
        },
        {
          "output_type": "display_data",
          "data": {
            "image/png": "[encoded data removed]",
            "text/plain": [
              "<Figure size 800x600 with 1 Axes>"
            ]
          },
          "metadata": {
            "tags": []
          }
        }
      ]
    },
    {
      "cell_type": "code",
      "metadata": {
        "id": "LusAt_Buj_9o",
        "colab_type": "code",
        "outputId": "8f5d8cd0-0b26-4171-f632-931ab84be0b6",
        "colab": {
          "base_uri": "https://localhost:8080/",
          "height": 375
        }
      },
      "source": [
        "from sklearn.preprocessing import StandardScaler\n",
        "from sklearn.pipeline import Pipeline\n",
        "\n",
        "for style, width, degree in ((\"g-\", 1, 300), (\"b--\", 2, 2), (\"r-+\", 2, 1)):\n",
        "    polybig_features = PolynomialFeatures(degree=degree, include_bias=False)\n",
        "    std_scaler = StandardScaler()\n",
        "    lin_reg = linear_model.LinearRegression()\n",
        "    polynomial_regression = Pipeline([\n",
        "            (\"poly_features\", polybig_features),\n",
        "            (\"std_scaler\", std_scaler),\n",
        "            (\"lin_reg\", lin_reg),\n",
        "        ])\n",
        "    polynomial_regression.fit(X, y)\n",
        "    y_newbig = polynomial_regression.predict(X_new_poly)\n",
        "    plt.plot(list(range(len(y_newbig))), y_newbig, style, label=str(degree), linewidth=width)\n",
        "\n",
        "plt.plot(list(range(len(y_test))), y_test, \"b.\", linewidth=3)\n",
        "plt.legend(loc=\"upper left\")\n",
        "plt.xlabel(\"$x_1$\", fontsize=18)\n",
        "plt.ylabel(\"$y$\", rotation=0, fontsize=18)\n",
        "plt.axis([0, 12000, 0, 1000])\n",
        "\n",
        "plt.show()"
      ],
      "execution_count": 0,
      "outputs": [
        {
          "output_type": "error",
          "ename": "KeyboardInterrupt",
          "evalue": "ignored",
          "traceback": [
            "\u001b[0;31m---------------------------------------------------------------------------\u001b[0m",
            "\u001b[0;31mKeyboardInterrupt\u001b[0m                         Traceback (most recent call last)",
            "\u001b[0;32m<ipython-input-232-8373900685bb>\u001b[0m in \u001b[0;36m<module>\u001b[0;34m()\u001b[0m\n\u001b[1;32m     11\u001b[0m             \u001b[0;34m(\u001b[0m\u001b[0;34m\"lin_reg\"\u001b[0m\u001b[0;34m,\u001b[0m \u001b[0mlin_reg\u001b[0m\u001b[0;34m)\u001b[0m\u001b[0;34m,\u001b[0m\u001b[0;34m\u001b[0m\u001b[0;34m\u001b[0m\u001b[0m\n\u001b[1;32m     12\u001b[0m         ])\n\u001b[0;32m---> 13\u001b[0;31m     \u001b[0mpolynomial_regression\u001b[0m\u001b[0;34m.\u001b[0m\u001b[0mfit\u001b[0m\u001b[0;34m(\u001b[0m\u001b[0mX\u001b[0m\u001b[0;34m,\u001b[0m \u001b[0my\u001b[0m\u001b[0;34m)\u001b[0m\u001b[0;34m\u001b[0m\u001b[0;34m\u001b[0m\u001b[0m\n\u001b[0m\u001b[1;32m     14\u001b[0m     \u001b[0my_newbig\u001b[0m \u001b[0;34m=\u001b[0m \u001b[0mpolynomial_regression\u001b[0m\u001b[0;34m.\u001b[0m\u001b[0mpredict\u001b[0m\u001b[0;34m(\u001b[0m\u001b[0mX_new_poly\u001b[0m\u001b[0;34m)\u001b[0m\u001b[0;34m\u001b[0m\u001b[0;34m\u001b[0m\u001b[0m\n\u001b[1;32m     15\u001b[0m     \u001b[0mplt\u001b[0m\u001b[0;34m.\u001b[0m\u001b[0mplot\u001b[0m\u001b[0;34m(\u001b[0m\u001b[0mlist\u001b[0m\u001b[0;34m(\u001b[0m\u001b[0mrange\u001b[0m\u001b[0;34m(\u001b[0m\u001b[0mlen\u001b[0m\u001b[0;34m(\u001b[0m\u001b[0my_newbig\u001b[0m\u001b[0;34m)\u001b[0m\u001b[0;34m)\u001b[0m\u001b[0;34m)\u001b[0m\u001b[0;34m,\u001b[0m \u001b[0my_newbig\u001b[0m\u001b[0;34m,\u001b[0m \u001b[0mstyle\u001b[0m\u001b[0;34m,\u001b[0m \u001b[0mlabel\u001b[0m\u001b[0;34m=\u001b[0m\u001b[0mstr\u001b[0m\u001b[0;34m(\u001b[0m\u001b[0mdegree\u001b[0m\u001b[0;34m)\u001b[0m\u001b[0;34m,\u001b[0m \u001b[0mlinewidth\u001b[0m\u001b[0;34m=\u001b[0m\u001b[0mwidth\u001b[0m\u001b[0;34m)\u001b[0m\u001b[0;34m\u001b[0m\u001b[0;34m\u001b[0m\u001b[0m\n",
            "\u001b[0;32m/usr/local/lib/python3.6/dist-packages/sklearn/pipeline.py\u001b[0m in \u001b[0;36mfit\u001b[0;34m(self, X, y, **fit_params)\u001b[0m\n\u001b[1;32m    348\u001b[0m             \u001b[0mThis\u001b[0m \u001b[0mestimator\u001b[0m\u001b[0;34m\u001b[0m\u001b[0;34m\u001b[0m\u001b[0m\n\u001b[1;32m    349\u001b[0m         \"\"\"\n\u001b[0;32m--> 350\u001b[0;31m         \u001b[0mXt\u001b[0m\u001b[0;34m,\u001b[0m \u001b[0mfit_params\u001b[0m \u001b[0;34m=\u001b[0m \u001b[0mself\u001b[0m\u001b[0;34m.\u001b[0m\u001b[0m_fit\u001b[0m\u001b[0;34m(\u001b[0m\u001b[0mX\u001b[0m\u001b[0;34m,\u001b[0m \u001b[0my\u001b[0m\u001b[0;34m,\u001b[0m \u001b[0;34m**\u001b[0m\u001b[0mfit_params\u001b[0m\u001b[0;34m)\u001b[0m\u001b[0;34m\u001b[0m\u001b[0;34m\u001b[0m\u001b[0m\n\u001b[0m\u001b[1;32m    351\u001b[0m         with _print_elapsed_time('Pipeline',\n\u001b[1;32m    352\u001b[0m                                  self._log_message(len(self.steps) - 1)):\n",
            "\u001b[0;32m/usr/local/lib/python3.6/dist-packages/sklearn/pipeline.py\u001b[0m in \u001b[0;36m_fit\u001b[0;34m(self, X, y, **fit_params)\u001b[0m\n\u001b[1;32m    313\u001b[0m                 \u001b[0mmessage_clsname\u001b[0m\u001b[0;34m=\u001b[0m\u001b[0;34m'Pipeline'\u001b[0m\u001b[0;34m,\u001b[0m\u001b[0;34m\u001b[0m\u001b[0;34m\u001b[0m\u001b[0m\n\u001b[1;32m    314\u001b[0m                 \u001b[0mmessage\u001b[0m\u001b[0;34m=\u001b[0m\u001b[0mself\u001b[0m\u001b[0;34m.\u001b[0m\u001b[0m_log_message\u001b[0m\u001b[0;34m(\u001b[0m\u001b[0mstep_idx\u001b[0m\u001b[0;34m)\u001b[0m\u001b[0;34m,\u001b[0m\u001b[0;34m\u001b[0m\u001b[0;34m\u001b[0m\u001b[0m\n\u001b[0;32m--> 315\u001b[0;31m                 **fit_params_steps[name])\n\u001b[0m\u001b[1;32m    316\u001b[0m             \u001b[0;31m# Replace the transformer of the step with the fitted\u001b[0m\u001b[0;34m\u001b[0m\u001b[0;34m\u001b[0m\u001b[0;34m\u001b[0m\u001b[0m\n\u001b[1;32m    317\u001b[0m             \u001b[0;31m# transformer. This is necessary when loading the transformer\u001b[0m\u001b[0;34m\u001b[0m\u001b[0;34m\u001b[0m\u001b[0;34m\u001b[0m\u001b[0m\n",
            "\u001b[0;32m/usr/local/lib/python3.6/dist-packages/joblib/memory.py\u001b[0m in \u001b[0;36m__call__\u001b[0;34m(self, *args, **kwargs)\u001b[0m\n\u001b[1;32m    353\u001b[0m \u001b[0;34m\u001b[0m\u001b[0m\n\u001b[1;32m    354\u001b[0m     \u001b[0;32mdef\u001b[0m \u001b[0m__call__\u001b[0m\u001b[0;34m(\u001b[0m\u001b[0mself\u001b[0m\u001b[0;34m,\u001b[0m \u001b[0;34m*\u001b[0m\u001b[0margs\u001b[0m\u001b[0;34m,\u001b[0m \u001b[0;34m**\u001b[0m\u001b[0mkwargs\u001b[0m\u001b[0;34m)\u001b[0m\u001b[0;34m:\u001b[0m\u001b[0;34m\u001b[0m\u001b[0;34m\u001b[0m\u001b[0m\n\u001b[0;32m--> 355\u001b[0;31m         \u001b[0;32mreturn\u001b[0m \u001b[0mself\u001b[0m\u001b[0;34m.\u001b[0m\u001b[0mfunc\u001b[0m\u001b[0;34m(\u001b[0m\u001b[0;34m*\u001b[0m\u001b[0margs\u001b[0m\u001b[0;34m,\u001b[0m \u001b[0;34m**\u001b[0m\u001b[0mkwargs\u001b[0m\u001b[0;34m)\u001b[0m\u001b[0;34m\u001b[0m\u001b[0;34m\u001b[0m\u001b[0m\n\u001b[0m\u001b[1;32m    356\u001b[0m \u001b[0;34m\u001b[0m\u001b[0m\n\u001b[1;32m    357\u001b[0m     \u001b[0;32mdef\u001b[0m \u001b[0mcall_and_shelve\u001b[0m\u001b[0;34m(\u001b[0m\u001b[0mself\u001b[0m\u001b[0;34m,\u001b[0m \u001b[0;34m*\u001b[0m\u001b[0margs\u001b[0m\u001b[0;34m,\u001b[0m \u001b[0;34m**\u001b[0m\u001b[0mkwargs\u001b[0m\u001b[0;34m)\u001b[0m\u001b[0;34m:\u001b[0m\u001b[0;34m\u001b[0m\u001b[0;34m\u001b[0m\u001b[0m\n",
            "\u001b[0;32m/usr/local/lib/python3.6/dist-packages/sklearn/pipeline.py\u001b[0m in \u001b[0;36m_fit_transform_one\u001b[0;34m(transformer, X, y, weight, message_clsname, message, **fit_params)\u001b[0m\n\u001b[1;32m    726\u001b[0m     \u001b[0;32mwith\u001b[0m \u001b[0m_print_elapsed_time\u001b[0m\u001b[0;34m(\u001b[0m\u001b[0mmessage_clsname\u001b[0m\u001b[0;34m,\u001b[0m \u001b[0mmessage\u001b[0m\u001b[0;34m)\u001b[0m\u001b[0;34m:\u001b[0m\u001b[0;34m\u001b[0m\u001b[0;34m\u001b[0m\u001b[0m\n\u001b[1;32m    727\u001b[0m         \u001b[0;32mif\u001b[0m \u001b[0mhasattr\u001b[0m\u001b[0;34m(\u001b[0m\u001b[0mtransformer\u001b[0m\u001b[0;34m,\u001b[0m \u001b[0;34m'fit_transform'\u001b[0m\u001b[0;34m)\u001b[0m\u001b[0;34m:\u001b[0m\u001b[0;34m\u001b[0m\u001b[0;34m\u001b[0m\u001b[0m\n\u001b[0;32m--> 728\u001b[0;31m             \u001b[0mres\u001b[0m \u001b[0;34m=\u001b[0m \u001b[0mtransformer\u001b[0m\u001b[0;34m.\u001b[0m\u001b[0mfit_transform\u001b[0m\u001b[0;34m(\u001b[0m\u001b[0mX\u001b[0m\u001b[0;34m,\u001b[0m \u001b[0my\u001b[0m\u001b[0;34m,\u001b[0m \u001b[0;34m**\u001b[0m\u001b[0mfit_params\u001b[0m\u001b[0;34m)\u001b[0m\u001b[0;34m\u001b[0m\u001b[0;34m\u001b[0m\u001b[0m\n\u001b[0m\u001b[1;32m    729\u001b[0m         \u001b[0;32melse\u001b[0m\u001b[0;34m:\u001b[0m\u001b[0;34m\u001b[0m\u001b[0;34m\u001b[0m\u001b[0m\n\u001b[1;32m    730\u001b[0m             \u001b[0mres\u001b[0m \u001b[0;34m=\u001b[0m \u001b[0mtransformer\u001b[0m\u001b[0;34m.\u001b[0m\u001b[0mfit\u001b[0m\u001b[0;34m(\u001b[0m\u001b[0mX\u001b[0m\u001b[0;34m,\u001b[0m \u001b[0my\u001b[0m\u001b[0;34m,\u001b[0m \u001b[0;34m**\u001b[0m\u001b[0mfit_params\u001b[0m\u001b[0;34m)\u001b[0m\u001b[0;34m.\u001b[0m\u001b[0mtransform\u001b[0m\u001b[0;34m(\u001b[0m\u001b[0mX\u001b[0m\u001b[0;34m)\u001b[0m\u001b[0;34m\u001b[0m\u001b[0;34m\u001b[0m\u001b[0m\n",
            "\u001b[0;32m/usr/local/lib/python3.6/dist-packages/sklearn/base.py\u001b[0m in \u001b[0;36mfit_transform\u001b[0;34m(self, X, y, **fit_params)\u001b[0m\n\u001b[1;32m    572\u001b[0m         \u001b[0;32melse\u001b[0m\u001b[0;34m:\u001b[0m\u001b[0;34m\u001b[0m\u001b[0;34m\u001b[0m\u001b[0m\n\u001b[1;32m    573\u001b[0m             \u001b[0;31m# fit method of arity 2 (supervised transformation)\u001b[0m\u001b[0;34m\u001b[0m\u001b[0;34m\u001b[0m\u001b[0;34m\u001b[0m\u001b[0m\n\u001b[0;32m--> 574\u001b[0;31m             \u001b[0;32mreturn\u001b[0m \u001b[0mself\u001b[0m\u001b[0;34m.\u001b[0m\u001b[0mfit\u001b[0m\u001b[0;34m(\u001b[0m\u001b[0mX\u001b[0m\u001b[0;34m,\u001b[0m \u001b[0my\u001b[0m\u001b[0;34m,\u001b[0m \u001b[0;34m**\u001b[0m\u001b[0mfit_params\u001b[0m\u001b[0;34m)\u001b[0m\u001b[0;34m.\u001b[0m\u001b[0mtransform\u001b[0m\u001b[0;34m(\u001b[0m\u001b[0mX\u001b[0m\u001b[0;34m)\u001b[0m\u001b[0;34m\u001b[0m\u001b[0;34m\u001b[0m\u001b[0m\n\u001b[0m\u001b[1;32m    575\u001b[0m \u001b[0;34m\u001b[0m\u001b[0m\n\u001b[1;32m    576\u001b[0m \u001b[0;34m\u001b[0m\u001b[0m\n",
            "\u001b[0;32m/usr/local/lib/python3.6/dist-packages/sklearn/preprocessing/_data.py\u001b[0m in \u001b[0;36mfit\u001b[0;34m(self, X, y)\u001b[0m\n\u001b[1;32m   1511\u001b[0m                                           self.include_bias)\n\u001b[1;32m   1512\u001b[0m         \u001b[0mself\u001b[0m\u001b[0;34m.\u001b[0m\u001b[0mn_input_features_\u001b[0m \u001b[0;34m=\u001b[0m \u001b[0mn_features\u001b[0m\u001b[0;34m\u001b[0m\u001b[0;34m\u001b[0m\u001b[0m\n\u001b[0;32m-> 1513\u001b[0;31m         \u001b[0mself\u001b[0m\u001b[0;34m.\u001b[0m\u001b[0mn_output_features_\u001b[0m \u001b[0;34m=\u001b[0m \u001b[0msum\u001b[0m\u001b[0;34m(\u001b[0m\u001b[0;36m1\u001b[0m \u001b[0;32mfor\u001b[0m \u001b[0m_\u001b[0m \u001b[0;32min\u001b[0m \u001b[0mcombinations\u001b[0m\u001b[0;34m)\u001b[0m\u001b[0;34m\u001b[0m\u001b[0;34m\u001b[0m\u001b[0m\n\u001b[0m\u001b[1;32m   1514\u001b[0m         \u001b[0;32mreturn\u001b[0m \u001b[0mself\u001b[0m\u001b[0;34m\u001b[0m\u001b[0;34m\u001b[0m\u001b[0m\n\u001b[1;32m   1515\u001b[0m \u001b[0;34m\u001b[0m\u001b[0m\n",
            "\u001b[0;32m/usr/local/lib/python3.6/dist-packages/sklearn/preprocessing/_data.py\u001b[0m in \u001b[0;36m<genexpr>\u001b[0;34m(.0)\u001b[0m\n\u001b[1;32m   1511\u001b[0m                                           self.include_bias)\n\u001b[1;32m   1512\u001b[0m         \u001b[0mself\u001b[0m\u001b[0;34m.\u001b[0m\u001b[0mn_input_features_\u001b[0m \u001b[0;34m=\u001b[0m \u001b[0mn_features\u001b[0m\u001b[0;34m\u001b[0m\u001b[0;34m\u001b[0m\u001b[0m\n\u001b[0;32m-> 1513\u001b[0;31m         \u001b[0mself\u001b[0m\u001b[0;34m.\u001b[0m\u001b[0mn_output_features_\u001b[0m \u001b[0;34m=\u001b[0m \u001b[0msum\u001b[0m\u001b[0;34m(\u001b[0m\u001b[0;36m1\u001b[0m \u001b[0;32mfor\u001b[0m \u001b[0m_\u001b[0m \u001b[0;32min\u001b[0m \u001b[0mcombinations\u001b[0m\u001b[0;34m)\u001b[0m\u001b[0;34m\u001b[0m\u001b[0;34m\u001b[0m\u001b[0m\n\u001b[0m\u001b[1;32m   1514\u001b[0m         \u001b[0;32mreturn\u001b[0m \u001b[0mself\u001b[0m\u001b[0;34m\u001b[0m\u001b[0;34m\u001b[0m\u001b[0m\n\u001b[1;32m   1515\u001b[0m \u001b[0;34m\u001b[0m\u001b[0m\n",
            "\u001b[0;31mKeyboardInterrupt\u001b[0m: "
          ]
        }
      ]
    },
    {
      "cell_type": "markdown",
      "metadata": {
        "id": "ce2D-GbXSAXF",
        "colab_type": "text"
      },
      "source": [
        "**above code runing 2 hours can not show picture**"
      ]
    },
    {
      "cell_type": "markdown",
      "metadata": {
        "id": "tOcFCrVQC6h-",
        "colab_type": "text"
      },
      "source": [
        "**k-fold cross validation for polynomial regression**\n",
        "\n",
        "firstly, using k-fold to get mse\n",
        "\n",
        "secondly, fixing the sign of MSE scores\n",
        "\n",
        "thirdly,convert from MSE to RMSE\n",
        "calculate the average RMSE"
      ]
    },
    {
      "cell_type": "code",
      "metadata": {
        "id": "UpJLhwIPC6A-",
        "colab_type": "code",
        "outputId": "14c17844-3df5-4936-a4e4-149bee72d07d",
        "colab": {
          "base_uri": "https://localhost:8080/",
          "height": 68
        }
      },
      "source": [
        "cv = KFold(n_splits=10, shuffle=True, random_state=1)\n",
        "scores = cross_val_score(lin_reg, X_new_poly, y_test, scoring='neg_mean_squared_error', cv=cv)\n",
        "scores"
      ],
      "execution_count": 0,
      "outputs": [
        {
          "output_type": "execute_result",
          "data": {
            "text/plain": [
              "array([-6125.83247532, -5783.74339408, -6277.88259285, -6300.84876303,\n",
              "       -5325.41106387, -6126.22304944, -6095.68008903, -6162.59655695,\n",
              "       -5195.71121753, -6114.05150467])"
            ]
          },
          "metadata": {
            "tags": []
          },
          "execution_count": 291
        }
      ]
    },
    {
      "cell_type": "code",
      "metadata": {
        "id": "EIT6miCpDJ_d",
        "colab_type": "code",
        "outputId": "f0475ea5-b5b9-4b3b-c2a8-95312c39df2e",
        "colab": {
          "base_uri": "https://localhost:8080/",
          "height": 51
        }
      },
      "source": [
        "mse_scores = -scores\n",
        "print(mse_scores)"
      ],
      "execution_count": 0,
      "outputs": [
        {
          "output_type": "stream",
          "text": [
            "[6125.83247532 5783.74339408 6277.88259285 6300.84876303 5325.41106387\n",
            " 6126.22304944 6095.68008903 6162.59655695 5195.71121753 6114.05150467]\n"
          ],
          "name": "stdout"
        }
      ]
    },
    {
      "cell_type": "code",
      "metadata": {
        "id": "E9dCv829DPHw",
        "colab_type": "code",
        "outputId": "30565a0d-1e0e-4b13-d554-697ea986aae6",
        "colab": {
          "base_uri": "https://localhost:8080/",
          "height": 68
        }
      },
      "source": [
        "rmse_scores = np.sqrt(mse_scores)\n",
        "print(rmse_scores)\n",
        "print(rmse_scores.mean())"
      ],
      "execution_count": 0,
      "outputs": [
        {
          "output_type": "stream",
          "text": [
            "[78.26769752 76.05092632 79.23309026 79.37788586 72.97541411 78.2701926\n",
            " 78.07483646 78.50220734 72.08128202 78.19240056]\n",
            "77.10259330442963\n"
          ],
          "name": "stdout"
        }
      ]
    },
    {
      "cell_type": "markdown",
      "metadata": {
        "id": "HWRQ29IPPcQj",
        "colab_type": "text"
      },
      "source": [
        "**4.Plot and compare learning curves for all models**"
      ]
    },
    {
      "cell_type": "markdown",
      "metadata": {
        "id": "h3NbNpXM-LMw",
        "colab_type": "text"
      },
      "source": [
        "# **learning curves for all models** "
      ]
    },
    {
      "cell_type": "markdown",
      "metadata": {
        "id": "mlBUZeGx-hLP",
        "colab_type": "text"
      },
      "source": [
        "learning curves plots model's performance on the training set and the validation set as a function of the training set size. to get the plot, simply train the model seveal time on different sized subsets of the training set.\n",
        "\n",
        "the folloing code defines a function that plots the learning curves of a model given some training data:"
      ]
    },
    {
      "cell_type": "code",
      "metadata": {
        "id": "INT_cPrUegu9",
        "colab_type": "code",
        "colab": {}
      },
      "source": [
        "from sklearn.metrics import mean_squared_error\n",
        "from sklearn.model_selection import train_test_split\n",
        "\n",
        "def plot_learning_curves(model, X, y):\n",
        "    X_train, X_val, y_train, y_val = train_test_split(X, y, test_size=0.2, random_state=10)\n",
        "    train_errors, val_errors = [], []\n",
        "    for m in range(1, len(X_train)):\n",
        "        model.fit(X_train[:m], y_train[:m])\n",
        "        y_train_predict = model.predict(X_train[:m])\n",
        "        y_val_predict = model.predict(X_val)\n",
        "        train_errors.append(mean_squared_error(y_train[:m], y_train_predict))\n",
        "        val_errors.append(mean_squared_error(y_val, y_val_predict))\n",
        "\n",
        "    plt.plot(np.sqrt(train_errors), \"r-+\", linewidth=2, label=\"train\")\n",
        "    plt.plot(np.sqrt(val_errors), \"b-\", linewidth=3, label=\"val\")\n",
        "    plt.legend(loc=\"upper right\", fontsize=14)   # not shown in the book\n",
        "    plt.xlabel(\"Training set size\", fontsize=14) # not shown\n",
        "    plt.ylabel(\"RMSE\", fontsize=14) "
      ],
      "execution_count": 0,
      "outputs": []
    },
    {
      "cell_type": "markdown",
      "metadata": {
        "id": "2g4_9byHRjmV",
        "colab_type": "text"
      },
      "source": [
        "**let's let at the learning curves of the linear regression model**"
      ]
    },
    {
      "cell_type": "code",
      "metadata": {
        "id": "TpdPgM8oenln",
        "colab_type": "code",
        "outputId": "2ba5c282-0323-4de6-9a78-5f8fe4d5703b",
        "colab": {
          "base_uri": "https://localhost:8080/",
          "height": 291
        }
      },
      "source": [
        "\n",
        "plot_learning_curves(linear, X, y)\n",
        "plt.axis([0, 35, 0, 450])                         # not shown in the book\n",
        "plt.show()"
      ],
      "execution_count": 0,
      "outputs": [
        {
          "output_type": "display_data",
          "data": {
            "image/png": "[encoded data removed]",
            "text/plain": [
              "<Figure size 432x288 with 1 Axes>"
            ]
          },
          "metadata": {
            "tags": []
          }
        }
      ]
    },
    {
      "cell_type": "markdown",
      "metadata": {
        "id": "LaXIzXg9-lGb",
        "colab_type": "text"
      },
      "source": [
        "**let's let at the learning curves of the polynomial regression model**"
      ]
    },
    {
      "cell_type": "code",
      "metadata": {
        "id": "72ftQMq6-vR9",
        "colab_type": "code",
        "outputId": "d2a14e71-4b1c-4da5-989e-9e6257a3dd13",
        "colab": {
          "base_uri": "https://localhost:8080/",
          "height": 291
        }
      },
      "source": [
        "plot_learning_curves(lin_reg_model, X, y)\n",
        "plt.axis([0, 35, 0, 450])                         # not shown in the book\n",
        "plt.show()"
      ],
      "execution_count": 0,
      "outputs": [
        {
          "output_type": "display_data",
          "data": {
            "image/png": "[encoded data removed]",
            "text/plain": [
              "<Figure size 432x288 with 1 Axes>"
            ]
          },
          "metadata": {
            "tags": []
          }
        }
      ]
    },
    {
      "cell_type": "markdown",
      "metadata": {
        "id": "Cx-K3mEwRzhG",
        "colab_type": "text"
      },
      "source": [
        "**let's let at the learning curves of the lasso regression model**"
      ]
    },
    {
      "cell_type": "code",
      "metadata": {
        "id": "lSWVNm9Yv2eV",
        "colab_type": "code",
        "outputId": "495f8c9a-6b9b-471d-8e35-e0aadcd76e00",
        "colab": {
          "base_uri": "https://localhost:8080/",
          "height": 291
        }
      },
      "source": [
        "plot_learning_curves(lasso_model, X, y)\n",
        "plt.axis([0, 45, 0, 400])             \n",
        "plt.show()"
      ],
      "execution_count": 0,
      "outputs": [
        {
          "output_type": "display_data",
          "data": {
            "image/png": "[encoded data removed]",
            "text/plain": [
              "<Figure size 432x288 with 1 Axes>"
            ]
          },
          "metadata": {
            "tags": []
          }
        }
      ]
    },
    {
      "cell_type": "markdown",
      "metadata": {
        "id": "wlI4eKPWR5Gg",
        "colab_type": "text"
      },
      "source": [
        "**let's let at the learning curves of the Ridge regression model**"
      ]
    },
    {
      "cell_type": "code",
      "metadata": {
        "id": "N4JxwlU_Byo4",
        "colab_type": "code",
        "outputId": "af28c664-90f6-4f25-bd79-c1b707115d63",
        "colab": {
          "base_uri": "https://localhost:8080/",
          "height": 291
        }
      },
      "source": [
        "plot_learning_curves(Ridge_model, X, y)\n",
        "plt.axis([0, 45, 0, 400])             \n",
        "plt.show()"
      ],
      "execution_count": 0,
      "outputs": [
        {
          "output_type": "display_data",
          "data": {
            "image/png": "[encoded data removed]",
            "text/plain": [
              "<Figure size 432x288 with 1 Axes>"
            ]
          },
          "metadata": {
            "tags": []
          }
        }
      ]
    }
  ]
}